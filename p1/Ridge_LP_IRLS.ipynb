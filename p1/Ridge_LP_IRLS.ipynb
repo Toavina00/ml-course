{
 "cells": [
  {
   "cell_type": "markdown",
   "id": "aab14ca2",
   "metadata": {},
   "source": [
    "# MISA\n",
    "Alohan'ny mamerina dia avereno atao Run ny notebook iray manontolo. Ny fanaovana azy dia redémarrena mihitsy ny kernel aloha (jereo menubar, safidio **Kernel$\\rightarrow$Restart Kernel and Run All Cells**).\n",
    "\n",
    "Izay misy hoe `YOUR CODE HERE` na `YOUR ANSWER HERE` ihany no fenoina. Afaka manampy cells vaovao raha ilaina. Aza adino ny mameno references eo ambany raha ilaina."
   ]
  },
  {
   "cell_type": "markdown",
   "id": "81c92ce1",
   "metadata": {},
   "source": [
    "## References\n",
    "Eto ilay references rehetra no apetraka"
   ]
  },
  {
   "cell_type": "markdown",
   "id": "52d1af6e",
   "metadata": {},
   "source": [
    "---"
   ]
  },
  {
   "cell_type": "code",
   "execution_count": 1,
   "id": "7e3916a3-2066-41ab-a3ae-5dbdfe2542ae",
   "metadata": {
    "deletable": false,
    "editable": false,
    "nbgrader": {
     "cell_type": "code",
     "checksum": "ef19c89772c1ffe84f76e416f28cb05c",
     "grade": false,
     "grade_id": "cell-4d0e97772afb86be",
     "locked": true,
     "schema_version": 3,
     "solution": false,
     "task": false
    },
    "tags": []
   },
   "outputs": [],
   "source": [
    "import numpy as np\n",
    "import scipy\n",
    "from sklearn.metrics import mean_squared_error\n",
    "from sklearn import datasets\n",
    "from sklearn.linear_model import Ridge \n",
    "from sklearn.datasets import load_breast_cancer, load_diabetes\n",
    "from sklearn.metrics import accuracy_score\n",
    "import cvxpy as cp\n",
    "\n",
    "\n",
    "def rel_error(x, y):\n",
    "  \"\"\" returns relative error \"\"\"\n",
    "  return np.max(np.abs(x - y) / (np.maximum(1e-8, np.abs(x) + np.abs(y))))\n",
    "\n",
    "data = datasets.load_diabetes()\n",
    "X_train, y_train = data.data, data.target"
   ]
  },
  {
   "cell_type": "markdown",
   "id": "d9491efe-191a-4334-b8af-99071b1f03f7",
   "metadata": {},
   "source": [
    "# Ridge regression"
   ]
  },
  {
   "cell_type": "code",
   "execution_count": 22,
   "id": "85ce3a34-d660-4b37-a64d-5727e6f61984",
   "metadata": {
    "deletable": false,
    "nbgrader": {
     "cell_type": "code",
     "checksum": "58d25b10cfc483fcf7b2c5f184f0ce0c",
     "grade": false,
     "grade_id": "cell-3c4f6bfe7003b341",
     "locked": false,
     "schema_version": 3,
     "solution": true,
     "task": false
    },
    "tags": []
   },
   "outputs": [],
   "source": [
    "def fit_svd(X, y, alpha=1.0):\n",
    "    \"\"\"SVD approach\"\"\"\n",
    "    N, d = X.shape\n",
    "    \n",
    "    U, S, Vt = np.linalg.svd(X)\n",
    "    Sm = np.vstack([np.diag(S), np.zeros((N - d, d))])\n",
    "    R = U @ Sm\n",
    "    \n",
    "    return Vt.T @ np.linalg.inv(R.T @ R + alpha * np.eye(d)) @ R.T @ y"
   ]
  },
  {
   "cell_type": "code",
   "execution_count": 23,
   "id": "1f09da41-d5f3-439f-8647-3e1bd5dbbe18",
   "metadata": {
    "deletable": false,
    "editable": false,
    "nbgrader": {
     "cell_type": "code",
     "checksum": "29523fcbd98796e2b7fb5dee9eb55f5c",
     "grade": true,
     "grade_id": "cell-c7ac02ba17878c3c",
     "locked": true,
     "points": 10,
     "schema_version": 3,
     "solution": false,
     "task": false
    },
    "tags": []
   },
   "outputs": [],
   "source": [
    "w = fit_svd(X_train, y_train, alpha=0.1)"
   ]
  },
  {
   "cell_type": "code",
   "execution_count": 24,
   "id": "d997c218-6aa3-4e80-bc96-8904cc1218dc",
   "metadata": {},
   "outputs": [
    {
     "name": "stdout",
     "output_type": "stream",
     "text": [
      "prediction error:  1.7215104810280023e-13\n"
     ]
    }
   ],
   "source": [
    "sk_model = Ridge(alpha=0.1)\n",
    "sk_model.fit(X_train, y_train)\n",
    "\n",
    "error = rel_error(sk_model.coef_, w)\n",
    "print(\"prediction error: \", error)\n",
    "assert error <= 1e-12"
   ]
  },
  {
   "cell_type": "markdown",
   "id": "fcd732a3-2fa1-495f-a28e-7a1a601fa700",
   "metadata": {},
   "source": [
    "# Newton Method - Logistic regression (IRLS)"
   ]
  },
  {
   "cell_type": "code",
   "execution_count": 25,
   "id": "ef8084dc-e243-4326-8de3-5c93e2fea680",
   "metadata": {
    "deletable": false,
    "editable": false,
    "nbgrader": {
     "cell_type": "code",
     "checksum": "6831709240cc46ec2131cd65dc605bf8",
     "grade": false,
     "grade_id": "cell-9040a33f93df4268",
     "locked": true,
     "schema_version": 3,
     "solution": false,
     "task": false
    },
    "tags": []
   },
   "outputs": [],
   "source": [
    "def sigmoid(z):\n",
    "    return 1 / (1 + np.exp(-z))\n",
    "\n",
    "data = load_breast_cancer()\n",
    "X_train2, y_train2 = data.data, data.target\n",
    "w2 = np.random.randn(X_train2.shape[1]) * 0.0001\n",
    "b2 = np.random.randn(1) * 0.0001"
   ]
  },
  {
   "cell_type": "code",
   "execution_count": 27,
   "id": "ffd2d03c-26bb-4685-ae5e-ecb4e9a81527",
   "metadata": {
    "deletable": false,
    "nbgrader": {
     "cell_type": "code",
     "checksum": "f44545b853825745b64f23dc68f2715d",
     "grade": false,
     "grade_id": "cell-4c4c9681958fdf9e",
     "locked": false,
     "schema_version": 3,
     "solution": true,
     "task": false
    }
   },
   "outputs": [],
   "source": [
    "class LogisticRegressor():\n",
    "    def __init__(self):\n",
    "        self.w = None\n",
    "\n",
    "    def train(self, X, y, num_iters=100):\n",
    "        N, d = X.shape\n",
    "        \n",
    "        self.w = np.zeros(d)\n",
    "        s = np.zeros(N)\n",
    "        z = np.zeros(N)\n",
    "        \n",
    "        for _ in range(num_iters):\n",
    "            for n in range(N):\n",
    "                an = self.w @ X[n]\n",
    "                un = sigmoid(an)\n",
    "                s[n] = un * (1 - un)\n",
    "                z[n] = y[n] - un\n",
    "            S = np.diag(s)\n",
    "            self.w += np.linalg.inv(X.T @ S @ X) @ X.T @ z\n",
    "    \n",
    "    def predict(self, X):\n",
    "        return X @ self.w > 0"
   ]
  },
  {
   "cell_type": "code",
   "execution_count": 35,
   "id": "57961c64-6672-45aa-bacb-3b2713dcebaa",
   "metadata": {},
   "outputs": [],
   "source": [
    "class LogisticRegressor():\n",
    "    def __init__(self):\n",
    "        self.w = None\n",
    "\n",
    "    def train(self, X, y, num_iters=100):\n",
    "        N, d = X.shape\n",
    "        \n",
    "        self.w = np.zeros(d)\n",
    "        \n",
    "        for _ in range(num_iters):\n",
    "            a = X @ self.w\n",
    "            u = sigmoid(X @ self.w)\n",
    "            s = u * (1 - u)\n",
    "            z = y - u\n",
    "            S = np.diag(s)\n",
    "            self.w += np.linalg.inv(X.T @ S @ X) @ X.T @ z\n",
    "            \n",
    "    \n",
    "    def predict(self, X):\n",
    "        return X @ self.w > 0"
   ]
  },
  {
   "cell_type": "code",
   "execution_count": 36,
   "id": "e6f0703b-df1b-4cbb-b55a-1560ccaf0172",
   "metadata": {
    "deletable": false,
    "editable": false,
    "nbgrader": {
     "cell_type": "code",
     "checksum": "5b6b51061cb02b45772613255fbe7664",
     "grade": true,
     "grade_id": "cell-839f3e24d45dd355",
     "locked": true,
     "points": 10,
     "schema_version": 3,
     "solution": false,
     "task": false
    },
    "tags": []
   },
   "outputs": [
    {
     "name": "stdout",
     "output_type": "stream",
     "text": [
      "Accuracy scikit-learn: 0.9876977152899824\n",
      "Accuracy IRLS model : 0.9947275922671354\n"
     ]
    }
   ],
   "source": [
    "from sklearn.linear_model import LogisticRegression\n",
    "from sklearn.preprocessing import StandardScaler\n",
    "\n",
    "scaler = StandardScaler()\n",
    "X_train2 = scaler.fit_transform(X_train2)\n",
    "\n",
    "sk_model = LogisticRegression(fit_intercept=False)\n",
    "sk_model.fit(X_train2, y_train2)\n",
    "sk_pred = sk_model.predict(X_train2)\n",
    "sk_acc = accuracy_score(sk_pred, y_train2)\n",
    "\n",
    "model = LogisticRegressor()\n",
    "model.train(X_train2, y_train2, num_iters=10)\n",
    "pred = model.predict(X_train2)\n",
    "model_acc = accuracy_score(pred, y_train2)\n",
    "\n",
    "print(\"Accuracy scikit-learn:\", sk_acc)\n",
    "print(\"Accuracy IRLS model :\", model_acc)\n",
    "assert sk_acc - model_acc < 0.01"
   ]
  },
  {
   "cell_type": "markdown",
   "id": "e6802980-5a80-4380-ba31-297970235b24",
   "metadata": {},
   "source": [
    "# Constrained optimization CVXPY\n",
    "\n",
    "Résoudre avec CVXPY\n",
    "\n",
    "$$\\min_{\\theta \\in \\mathbb{R}^3} \\frac{1}{2} (\\theta_1^2 + \\theta_2^2 + \\theta_3^2)$$\n",
    "$$\\text{s.c. }$$\n",
    "$$\\theta_1 + \\theta_2 + 2\\theta_3 - 1 = 0$$\n",
    "$$\\theta_1 + 4\\theta_2 + 2\\theta_3 - 3 = 0$$\n"
   ]
  },
  {
   "cell_type": "code",
   "execution_count": 32,
   "id": "441f3a95-f5ba-4481-82a2-a8f7874a71f4",
   "metadata": {},
   "outputs": [
    {
     "name": "stdout",
     "output_type": "stream",
     "text": [
      "Solution:  [0.16666667 0.16666667 0.33333333]\n"
     ]
    }
   ],
   "source": [
    "X = cp.Variable(3)\n",
    "\n",
    "objective = cp.Minimize(cp.sum_squares(X) / 2)\n",
    "constraints = [\n",
    "    X @ np.array([1, 1, 2]) - 1 == 0,\n",
    "    X @ np.array([1, 1, 2]) - 1 == 0\n",
    "]\n",
    "\n",
    "problem = cp.Problem(objective, constraints)\n",
    "problem.solve()\n",
    "\n",
    "print(\"Solution: \", X.value)"
   ]
  }
 ],
 "metadata": {
  "kernelspec": {
   "display_name": "Python 3 (ipykernel)",
   "language": "python",
   "name": "python3"
  },
  "language_info": {
   "codemirror_mode": {
    "name": "ipython",
    "version": 3
   },
   "file_extension": ".py",
   "mimetype": "text/x-python",
   "name": "python",
   "nbconvert_exporter": "python",
   "pygments_lexer": "ipython3",
   "version": "3.10.9"
  }
 },
 "nbformat": 4,
 "nbformat_minor": 5
}
