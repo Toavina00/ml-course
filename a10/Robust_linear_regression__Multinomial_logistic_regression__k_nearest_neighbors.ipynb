{
 "cells": [
  {
   "cell_type": "markdown",
   "id": "7ab2c6c4",
   "metadata": {
    "id": "7ab2c6c4"
   },
   "source": [
    "# MISA\n",
    "Alohan'ny mamerina dia avereno atao Run ny notebook iray manontolo. Ny fanaovana azy dia redémarrena mihitsy ny kernel aloha (jereo menubar, safidio **Kernel$\\rightarrow$Restart Kernel and Run All Cells**).\n",
    "\n",
    "Izay misy hoe `YOUR CODE HERE` na `YOUR ANSWER HERE` ihany no fenoina. Afaka manampy cells vaovao raha ilaina. Aza adino ny mameno references eo ambany raha ilaina."
   ]
  },
  {
   "cell_type": "markdown",
   "id": "0416c784",
   "metadata": {
    "id": "0416c784"
   },
   "source": [
    "## References\n",
    "Eto ilay references rehetra no apetraka"
   ]
  },
  {
   "cell_type": "markdown",
   "id": "e9296767",
   "metadata": {
    "id": "e9296767"
   },
   "source": [
    "---"
   ]
  },
  {
   "cell_type": "code",
   "execution_count": 1,
   "id": "JolpZvNtxJE3",
   "metadata": {
    "colab": {
     "base_uri": "https://localhost:8080/"
    },
    "id": "JolpZvNtxJE3",
    "outputId": "f43aaef0-c055-4110-832b-9873485b7b3c"
   },
   "outputs": [
    {
     "name": "stdout",
     "output_type": "stream",
     "text": [
      "Defaulting to user installation because normal site-packages is not writeable\n",
      "Collecting scikit-learn==1.1.3\n",
      "  Downloading scikit_learn-1.1.3-cp310-cp310-manylinux_2_17_x86_64.manylinux2014_x86_64.whl (30.5 MB)\n",
      "\u001b[2K     \u001b[90m━━━━━━━━━━━━━━━━━━━━━━━━━━━━━━━━━━━━━━━\u001b[0m \u001b[32m30.5/30.5 MB\u001b[0m \u001b[31m237.1 kB/s\u001b[0m eta \u001b[36m0:00:00\u001b[0m00:01\u001b[0m00:04\u001b[0m\n",
      "\u001b[?25hRequirement already satisfied: threadpoolctl>=2.0.0 in /opt/anaconda3/lib/python3.10/site-packages (from scikit-learn==1.1.3) (2.2.0)\n",
      "Requirement already satisfied: numpy>=1.17.3 in /opt/anaconda3/lib/python3.10/site-packages (from scikit-learn==1.1.3) (1.23.5)\n",
      "Requirement already satisfied: joblib>=1.0.0 in /opt/anaconda3/lib/python3.10/site-packages (from scikit-learn==1.1.3) (1.1.1)\n",
      "Requirement already satisfied: scipy>=1.3.2 in /opt/anaconda3/lib/python3.10/site-packages (from scikit-learn==1.1.3) (1.10.0)\n",
      "Installing collected packages: scikit-learn\n",
      "Successfully installed scikit-learn-1.1.3\n"
     ]
    }
   ],
   "source": [
    "!pip install scikit-learn==1.1.3"
   ]
  },
  {
   "cell_type": "code",
   "execution_count": 1,
   "id": "aebdce2a",
   "metadata": {
    "deletable": false,
    "editable": false,
    "id": "aebdce2a",
    "nbgrader": {
     "cell_type": "code",
     "checksum": "a003bb8fd03260393cb0121b2dcaf283",
     "grade": false,
     "grade_id": "cell-bb34820fb5daebb2",
     "locked": true,
     "schema_version": 3,
     "solution": false,
     "task": false
    }
   },
   "outputs": [],
   "source": [
    "# AZA MANAMPY CODE ATO FA MNAOVA CELLULE VAOVAO\n",
    "\n",
    "from random import randrange\n",
    "import numpy as np\n",
    "from sklearn.metrics import mean_squared_error, log_loss\n",
    "from sklearn.linear_model import HuberRegressor\n",
    "from sklearn.datasets import load_boston, load_diabetes, load_iris, load_digits\n",
    "from scipy.special import huber\n",
    "from sklearn.metrics import accuracy_score\n",
    "from sklearn.model_selection import train_test_split\n",
    "from sklearn.neighbors import KNeighborsClassifier\n",
    "\n",
    "def grad_check_sparse(f, x, analytic_grad, num_checks=12, h=1e-5, error=1e-9):\n",
    "    \"\"\"\n",
    "    sample a few random elements and only return numerical\n",
    "    in this dimensions\n",
    "    \"\"\"\n",
    "\n",
    "    for i in range(num_checks):\n",
    "        ix = tuple([randrange(m) for m in x.shape])\n",
    "\n",
    "        oldval = x[ix]\n",
    "        x[ix] = oldval + h  # increment by h\n",
    "        fxph = f(x)  # evaluate f(x + h)\n",
    "        x[ix] = oldval - h  # increment by h\n",
    "        fxmh = f(x)  # evaluate f(x - h)\n",
    "        x[ix] = oldval  # reset\n",
    "\n",
    "        grad_numerical = (fxph - fxmh) / (2 * h)\n",
    "        grad_analytic = analytic_grad[ix]\n",
    "        rel_error = abs(grad_numerical - grad_analytic) / (\n",
    "            abs(grad_numerical) + abs(grad_analytic)\n",
    "        )\n",
    "        print(\n",
    "            \"numerical: %f analytic: %f, relative error: %e\"\n",
    "            % (grad_numerical, grad_analytic, rel_error)\n",
    "        )\n",
    "        assert rel_error < error\n",
    "\n",
    "def rel_error(x, y):\n",
    "    \"\"\" returns relative error \"\"\"\n",
    "    return np.max(np.abs(x - y) / (np.maximum(1e-8, np.abs(x) + np.abs(y))))"
   ]
  },
  {
   "cell_type": "code",
   "execution_count": 2,
   "id": "d0466876-837a-4073-8a8e-56329d02faf9",
   "metadata": {},
   "outputs": [],
   "source": [
    "import warnings\n",
    "\n",
    "warnings.simplefilter(\"ignore\")"
   ]
  },
  {
   "cell_type": "markdown",
   "id": "b72ea596",
   "metadata": {
    "id": "b72ea596"
   },
   "source": [
    "# Robust linear regression - Huber loss"
   ]
  },
  {
   "cell_type": "code",
   "execution_count": 32,
   "id": "b6b74277-9413-4665-ba0d-50adb55ee89e",
   "metadata": {},
   "outputs": [],
   "source": [
    "np.random.seed(123)"
   ]
  },
  {
   "cell_type": "code",
   "execution_count": 33,
   "id": "9405baa1",
   "metadata": {
    "deletable": false,
    "editable": false,
    "id": "9405baa1",
    "nbgrader": {
     "cell_type": "code",
     "checksum": "c1ef69a259cc98ed9c1a4b75d4675c8d",
     "grade": false,
     "grade_id": "cell-050726493bce8a41",
     "locked": true,
     "schema_version": 3,
     "solution": false,
     "task": false
    }
   },
   "outputs": [],
   "source": [
    "data = load_boston()\n",
    "X_train1, y_train1 = data.data, data.target\n",
    "w1 = np.random.randn(X_train1.shape[1]) * 0.0001\n",
    "b1 = np.random.randn(1) * 0.0001"
   ]
  },
  {
   "cell_type": "code",
   "execution_count": 34,
   "id": "b79b3750",
   "metadata": {
    "deletable": false,
    "id": "b79b3750",
    "nbgrader": {
     "cell_type": "code",
     "checksum": "095fe70b6ce7c4be3afef42fd9756ac5",
     "grade": false,
     "grade_id": "cell-773a9a9798718bb2",
     "locked": false,
     "schema_version": 3,
     "solution": true,
     "task": false
    }
   },
   "outputs": [],
   "source": [
    "def huber_loss_naive(w, b, X, y, epsilon=1.35, alpha=0.0001):\n",
    "    \"\"\"\n",
    "    Huber loss for all observations\n",
    "\n",
    "    Inputs:\n",
    "    - w: array of shape (D,) containing weights\n",
    "    - b: float bias\n",
    "    - X: array of shape (N, D) containing a minibatch of data\n",
    "    - y: array of shape (N,) containing training labels\n",
    "    - epsilon: float\n",
    "    - alpha: regularization\n",
    "    \"\"\"\n",
    "    loss = 0.0\n",
    "    dw = np.zeros_like(w)\n",
    "    db = 0.0\n",
    "\n",
    "    N, D = X.shape\n",
    "\n",
    "    for i in range(N):\n",
    "        df = X[i] @ w + b - y[i]\n",
    "        if np.abs(df) <= epsilon:\n",
    "            loss += (df ** 2) / 2\n",
    "            db += df\n",
    "            for j in range(D):\n",
    "                dw[j] += X[i, j] * df\n",
    "\n",
    "        else:\n",
    "            loss += epsilon * ( np.abs(df) - epsilon / 2)\n",
    "            db += epsilon * np.sign(df)\n",
    "            for j in range(D):\n",
    "                dw[j] += X[i, j] * epsilon * np.sign(df)\n",
    "\n",
    "    loss *= 1/N\n",
    "    db *= 1/N\n",
    "    dw *= 1/N\n",
    "\n",
    "    loss += alpha * (w @ w) + alpha * b * b\n",
    "    dw += 2 * alpha * w\n",
    "    db += 2 * alpha * b\n",
    "\n",
    "    return loss, dw, np.array(db).reshape(1,)"
   ]
  },
  {
   "cell_type": "markdown",
   "id": "92ca4921",
   "metadata": {
    "id": "92ca4921"
   },
   "source": [
    "## without regularization"
   ]
  },
  {
   "cell_type": "code",
   "execution_count": 35,
   "id": "7ae434b9",
   "metadata": {
    "colab": {
     "base_uri": "https://localhost:8080/",
     "height": 991
    },
    "deletable": false,
    "editable": false,
    "id": "7ae434b9",
    "nbgrader": {
     "cell_type": "code",
     "checksum": "2e49c0c5b9c763c872c9eccf3c34e14f",
     "grade": true,
     "grade_id": "cell-88996bb95da97f10",
     "locked": true,
     "points": 1,
     "schema_version": 3,
     "solution": false,
     "task": false
    },
    "outputId": "91f63cd8-c3d8-4a0f-8cb2-f7e8e6d04fb4"
   },
   "outputs": [
    {
     "name": "stdout",
     "output_type": "stream",
     "text": [
      "Gradient check w\n",
      "numerical: -4.878257 analytic: -4.878257, relative error: 3.136290e-11\n",
      "numerical: -15.340909 analytic: -15.340909, relative error: 1.344040e-11\n",
      "numerical: -551.120158 analytic: -551.120158, relative error: 1.130019e-12\n",
      "numerical: -4.878257 analytic: -4.878257, relative error: 3.136290e-11\n",
      "numerical: -4.878257 analytic: -4.878257, relative error: 3.136290e-11\n",
      "numerical: -0.093379 analytic: -0.093379, relative error: 3.488240e-10\n",
      "numerical: -5.123308 analytic: -5.123308, relative error: 1.380354e-10\n",
      "numerical: -4.878257 analytic: -4.878257, relative error: 3.136290e-11\n",
      "numerical: -15.340909 analytic: -15.340909, relative error: 1.344040e-11\n",
      "numerical: -551.120158 analytic: -551.120158, relative error: 1.130019e-12\n",
      "numerical: -12.891700 analytic: -12.891700, relative error: 1.297658e-11\n",
      "numerical: -551.120158 analytic: -551.120158, relative error: 1.130019e-12\n",
      "numerical: -12.891700 analytic: -12.891700, relative error: 1.297658e-11\n",
      "numerical: -0.093379 analytic: -0.093379, relative error: 3.488240e-10\n",
      "numerical: -15.340909 analytic: -15.340909, relative error: 1.344040e-11\n",
      "Gradient check bias\n",
      "numerical: -1.350000 analytic: -1.350000, relative error: 1.235440e-11\n",
      "numerical: -1.350000 analytic: -1.350000, relative error: 1.235440e-11\n",
      "numerical: -1.350000 analytic: -1.350000, relative error: 1.235440e-11\n",
      "numerical: -1.350000 analytic: -1.350000, relative error: 1.235440e-11\n",
      "numerical: -1.350000 analytic: -1.350000, relative error: 1.235440e-11\n",
      "numerical: -1.350000 analytic: -1.350000, relative error: 1.235440e-11\n",
      "numerical: -1.350000 analytic: -1.350000, relative error: 1.235440e-11\n",
      "numerical: -1.350000 analytic: -1.350000, relative error: 1.235440e-11\n",
      "numerical: -1.350000 analytic: -1.350000, relative error: 1.235440e-11\n",
      "numerical: -1.350000 analytic: -1.350000, relative error: 1.235440e-11\n",
      "numerical: -1.350000 analytic: -1.350000, relative error: 1.235440e-11\n",
      "numerical: -1.350000 analytic: -1.350000, relative error: 1.235440e-11\n",
      "numerical: -1.350000 analytic: -1.350000, relative error: 1.235440e-11\n",
      "numerical: -1.350000 analytic: -1.350000, relative error: 1.235440e-11\n",
      "numerical: -1.350000 analytic: -1.350000, relative error: 1.235440e-11\n",
      "Gradient check w large epsilon\n",
      "numerical: -237.493742 analytic: -237.493742, relative error: 1.573575e-11\n",
      "numerical: -8497.937377 analytic: -8497.937377, relative error: 6.740456e-13\n",
      "numerical: -1.970827 analytic: -1.970827, relative error: 6.971667e-10\n",
      "numerical: -221.159847 analytic: -221.159847, relative error: 5.322918e-11\n",
      "numerical: -406.737931 analytic: -406.737931, relative error: 1.734212e-12\n",
      "numerical: -221.159847 analytic: -221.159847, relative error: 5.322918e-11\n",
      "numerical: -237.493742 analytic: -237.493742, relative error: 1.573575e-11\n",
      "numerical: -333.572160 analytic: -333.572160, relative error: 1.244474e-11\n",
      "numerical: -51.044430 analytic: -51.044430, relative error: 2.979901e-10\n",
      "numerical: -1451.740611 analytic: -1451.740611, relative error: 1.734426e-12\n",
      "numerical: -8334.091372 analytic: -8334.091372, relative error: 1.304097e-12\n",
      "numerical: -146.416001 analytic: -146.416001, relative error: 1.033380e-10\n",
      "numerical: -333.572160 analytic: -333.572160, relative error: 1.244474e-11\n",
      "numerical: -146.416001 analytic: -146.416001, relative error: 1.033380e-10\n",
      "numerical: -1.970827 analytic: -1.970827, relative error: 6.971667e-10\n",
      "Gradient check bias large epsilon\n",
      "numerical: -22.584541 analytic: -22.584541, relative error: 3.419850e-10\n",
      "numerical: -22.584541 analytic: -22.584541, relative error: 3.419850e-10\n",
      "numerical: -22.584541 analytic: -22.584541, relative error: 3.419850e-10\n",
      "numerical: -22.584541 analytic: -22.584541, relative error: 3.419850e-10\n",
      "numerical: -22.584541 analytic: -22.584541, relative error: 3.419850e-10\n",
      "numerical: -22.584541 analytic: -22.584541, relative error: 3.419850e-10\n",
      "numerical: -22.584541 analytic: -22.584541, relative error: 3.419850e-10\n",
      "numerical: -22.584541 analytic: -22.584541, relative error: 3.419850e-10\n",
      "numerical: -22.584541 analytic: -22.584541, relative error: 3.419850e-10\n",
      "numerical: -22.584541 analytic: -22.584541, relative error: 3.419850e-10\n",
      "numerical: -22.584541 analytic: -22.584541, relative error: 3.419850e-10\n",
      "numerical: -22.584541 analytic: -22.584541, relative error: 3.419850e-10\n",
      "numerical: -22.584541 analytic: -22.584541, relative error: 3.419850e-10\n",
      "numerical: -22.584541 analytic: -22.584541, relative error: 3.419850e-10\n",
      "numerical: -22.584541 analytic: -22.584541, relative error: 3.419850e-10\n"
     ]
    }
   ],
   "source": [
    "loss, dw1, db1 = huber_loss_naive(w1, b1, X_train1, y_train1, epsilon=1.35, alpha=0)\n",
    "\n",
    "print(\"Gradient check w\")\n",
    "# Check with numerical gradient w\n",
    "f = lambda w1: huber_loss_naive(w1, b1, X_train1, y_train1, epsilon=1.35, alpha=0)[0]\n",
    "grad_numerical = grad_check_sparse(f, w1, dw1, 15, error=1e-9)\n",
    "\n",
    "print(\"Gradient check bias\")\n",
    "# Check with numerical gradient b\n",
    "f2 = lambda b1: huber_loss_naive(w1, b1, X_train1, y_train1, epsilon=1.35, alpha=0)[0]\n",
    "grad_numerical = grad_check_sparse(f2, b1, db1, 15, error=1e-9)\n",
    "\n",
    "\n",
    "# Large epsilon\n",
    "large_eps_loss, large_eps_dw1, large_eps_db1 = huber_loss_naive(w1, b1, X_train1, y_train1, epsilon=135, alpha=0)\n",
    "\n",
    "print(\"Gradient check w large epsilon\")\n",
    "# Check with numerical gradient w\n",
    "f = lambda w1: huber_loss_naive(w1, b1, X_train1, y_train1, epsilon=135, alpha=0)[0]\n",
    "grad_numerical = grad_check_sparse(f, w1, large_eps_dw1, 15, error=1e-9)\n",
    "\n",
    "print(\"Gradient check bias large epsilon\")\n",
    "# Check with numerical gradient b\n",
    "f2 = lambda b1: huber_loss_naive(w1, b1, X_train1, y_train1, epsilon=135, alpha=0)[0]\n",
    "grad_numerical = grad_check_sparse(f2, b1, large_eps_db1, 15, error=1e-9)"
   ]
  },
  {
   "cell_type": "markdown",
   "id": "9f2b3314",
   "metadata": {
    "id": "9f2b3314"
   },
   "source": [
    " ## with regularization"
   ]
  },
  {
   "cell_type": "code",
   "execution_count": 36,
   "id": "20ed0b8d",
   "metadata": {
    "colab": {
     "base_uri": "https://localhost:8080/",
     "height": 435
    },
    "deletable": false,
    "editable": false,
    "id": "20ed0b8d",
    "nbgrader": {
     "cell_type": "code",
     "checksum": "42c6c09b6a3764a91aa10791fd05545e",
     "grade": true,
     "grade_id": "cell-6cfedcc6f02a9770",
     "locked": true,
     "points": 1,
     "schema_version": 3,
     "solution": false,
     "task": false
    },
    "outputId": "ee540222-7e8b-4091-8dc4-67afae5d6003"
   },
   "outputs": [
    {
     "name": "stdout",
     "output_type": "stream",
     "text": [
      "Gradient check w\n",
      "numerical: -12.891446 analytic: -12.891446, relative error: 1.653018e-11\n",
      "numerical: -0.748954 analytic: -0.748954, relative error: 1.520713e-11\n",
      "numerical: -15.340710 analytic: -15.340710, relative error: 1.428239e-11\n",
      "numerical: -92.576602 analytic: -92.576602, relative error: 2.547625e-12\n",
      "numerical: -8.483926 analytic: -8.483926, relative error: 1.335535e-10\n",
      "numerical: -481.509962 analytic: -481.509962, relative error: 2.806106e-13\n",
      "numerical: -0.748954 analytic: -0.748954, relative error: 1.520713e-11\n",
      "numerical: -481.509962 analytic: -481.509962, relative error: 2.806106e-13\n",
      "numerical: -15.340710 analytic: -15.340710, relative error: 1.428239e-11\n",
      "numerical: -0.093681 analytic: -0.093681, relative error: 4.217272e-10\n",
      "numerical: -92.576602 analytic: -92.576602, relative error: 2.547625e-12\n",
      "numerical: -0.093681 analytic: -0.093681, relative error: 4.217272e-10\n",
      "numerical: -92.576602 analytic: -92.576602, relative error: 2.547625e-12\n",
      "numerical: -92.576602 analytic: -92.576602, relative error: 2.547625e-12\n",
      "numerical: -92.576602 analytic: -92.576602, relative error: 2.547625e-12\n",
      "Gradient check bias\n",
      "numerical: -1.350128 analytic: -1.350128, relative error: 7.477672e-12\n",
      "numerical: -1.350128 analytic: -1.350128, relative error: 7.477672e-12\n",
      "numerical: -1.350128 analytic: -1.350128, relative error: 7.477672e-12\n",
      "numerical: -1.350128 analytic: -1.350128, relative error: 7.477672e-12\n",
      "numerical: -1.350128 analytic: -1.350128, relative error: 7.477672e-12\n",
      "numerical: -1.350128 analytic: -1.350128, relative error: 7.477672e-12\n",
      "numerical: -1.350128 analytic: -1.350128, relative error: 7.477672e-12\n",
      "numerical: -1.350128 analytic: -1.350128, relative error: 7.477672e-12\n",
      "numerical: -1.350128 analytic: -1.350128, relative error: 7.477672e-12\n",
      "numerical: -1.350128 analytic: -1.350128, relative error: 7.477672e-12\n",
      "numerical: -1.350128 analytic: -1.350128, relative error: 7.477672e-12\n",
      "numerical: -1.350128 analytic: -1.350128, relative error: 7.477672e-12\n",
      "numerical: -1.350128 analytic: -1.350128, relative error: 7.477672e-12\n",
      "numerical: -1.350128 analytic: -1.350128, relative error: 7.477672e-12\n",
      "numerical: -1.350128 analytic: -1.350128, relative error: 7.477672e-12\n",
      "Gradient check w large epsilon\n",
      "numerical: -1451.741096 analytic: -1451.741096, relative error: 1.118590e-12\n",
      "numerical: -12.074822 analytic: -12.074822, relative error: 6.241656e-10\n",
      "numerical: -8497.937550 analytic: -8497.937550, relative error: 7.465018e-13\n",
      "numerical: -333.571961 analytic: -333.571961, relative error: 1.221716e-11\n",
      "numerical: -8334.091391 analytic: -8334.091391, relative error: 1.227488e-12\n",
      "numerical: -221.159790 analytic: -221.159790, relative error: 5.221100e-11\n",
      "numerical: -237.493443 analytic: -237.493443, relative error: 1.702268e-11\n",
      "numerical: -1.971128 analytic: -1.971128, relative error: 6.484826e-10\n",
      "numerical: -8497.937550 analytic: -8497.937550, relative error: 7.465018e-13\n",
      "numerical: -1451.741096 analytic: -1451.741096, relative error: 1.118590e-12\n",
      "numerical: -146.415670 analytic: -146.415670, relative error: 9.833781e-11\n",
      "numerical: -146.415670 analytic: -146.415670, relative error: 9.833781e-11\n",
      "numerical: -90.512036 analytic: -90.512036, relative error: 1.600836e-10\n",
      "numerical: -1.971128 analytic: -1.971128, relative error: 6.484826e-10\n",
      "numerical: -51.044647 analytic: -51.044647, relative error: 3.129613e-10\n",
      "Gradient check bias large epsilon\n",
      "numerical: -22.584669 analytic: -22.584669, relative error: 3.250669e-10\n",
      "numerical: -22.584669 analytic: -22.584669, relative error: 3.250669e-10\n",
      "numerical: -22.584669 analytic: -22.584669, relative error: 3.250669e-10\n",
      "numerical: -22.584669 analytic: -22.584669, relative error: 3.250669e-10\n",
      "numerical: -22.584669 analytic: -22.584669, relative error: 3.250669e-10\n",
      "numerical: -22.584669 analytic: -22.584669, relative error: 3.250669e-10\n",
      "numerical: -22.584669 analytic: -22.584669, relative error: 3.250669e-10\n",
      "numerical: -22.584669 analytic: -22.584669, relative error: 3.250669e-10\n",
      "numerical: -22.584669 analytic: -22.584669, relative error: 3.250669e-10\n",
      "numerical: -22.584669 analytic: -22.584669, relative error: 3.250669e-10\n",
      "numerical: -22.584669 analytic: -22.584669, relative error: 3.250669e-10\n",
      "numerical: -22.584669 analytic: -22.584669, relative error: 3.250669e-10\n",
      "numerical: -22.584669 analytic: -22.584669, relative error: 3.250669e-10\n",
      "numerical: -22.584669 analytic: -22.584669, relative error: 3.250669e-10\n",
      "numerical: -22.584669 analytic: -22.584669, relative error: 3.250669e-10\n"
     ]
    }
   ],
   "source": [
    "loss, dw1, db1 = huber_loss_naive(w1, b1, X_train1, y_train1, epsilon=1.35, alpha=1)\n",
    "\n",
    "print(\"Gradient check w\")\n",
    "# Check with numerical gradient w\n",
    "f = lambda w1: huber_loss_naive(w1, b1, X_train1, y_train1, epsilon=1.35, alpha=1)[0]\n",
    "grad_numerical = grad_check_sparse(f, w1, dw1, 15, error=1e-9)\n",
    "\n",
    "print(\"Gradient check bias\")\n",
    "# Check with numerical gradient b\n",
    "f2 = lambda b1: huber_loss_naive(w1, b1, X_train1, y_train1, epsilon=1.35, alpha=1)[0]\n",
    "grad_numerical = grad_check_sparse(f2, b1, db1, 15, error=1e-9)\n",
    "\n",
    "\n",
    "# Large epsilon\n",
    "large_eps_loss, large_eps_dw1, large_eps_db1 = huber_loss_naive(w1, b1, X_train1, y_train1, epsilon=135, alpha=1)\n",
    "\n",
    "print(\"Gradient check w large epsilon\")\n",
    "# Check with numerical gradient w\n",
    "f = lambda w1: huber_loss_naive(w1, b1, X_train1, y_train1, epsilon=135, alpha=1)[0]\n",
    "grad_numerical = grad_check_sparse(f, w1, large_eps_dw1, 15, error=1e-9)\n",
    "\n",
    "print(\"Gradient check bias large epsilon\")\n",
    "# Check with numerical gradient b\n",
    "f2 = lambda b1: huber_loss_naive(w1, b1, X_train1, y_train1, epsilon=135, alpha=1)[0]\n",
    "grad_numerical = grad_check_sparse(f2, b1, large_eps_db1, 15, error=1e-9)"
   ]
  },
  {
   "cell_type": "code",
   "execution_count": 37,
   "id": "038cf336",
   "metadata": {
    "deletable": false,
    "id": "038cf336",
    "nbgrader": {
     "cell_type": "code",
     "checksum": "6809cf643812e18004a8e019e8648ee7",
     "grade": false,
     "grade_id": "cell-2f0ecc6405bdde00",
     "locked": false,
     "schema_version": 3,
     "solution": true,
     "task": false
    }
   },
   "outputs": [],
   "source": [
    "def huber_loss_vectorized(w, b, X, y, epsilon=1.35, alpha=0.0001):\n",
    "    \"\"\"\n",
    "    Huber loss for all observations\n",
    "\n",
    "    Inputs:\n",
    "    - w: array of shape (D,) containing weights\n",
    "    - b: float bias\n",
    "    - X: array of shape (N, D) containing a minibatch of data\n",
    "    - y: array of shape (N,) containing training labels\n",
    "    - epsilon: float\n",
    "    - alpha: regularization\n",
    "    \"\"\"\n",
    "    loss = 0.0\n",
    "    dw = np.zeros_like(w)\n",
    "    db = 0\n",
    "\n",
    "    df = X @ w + b - y\n",
    "    L = np.where(\n",
    "            np.abs(df) <= epsilon,\n",
    "            (df**2)/2,\n",
    "            epsilon * ( np.abs(df) - epsilon / 2)\n",
    "    )\n",
    "    dL = np.where(\n",
    "            np.abs(df) <= epsilon,\n",
    "            df,\n",
    "            epsilon * np.sign(df)\n",
    "    )\n",
    "\n",
    "    N, _ = X.shape\n",
    "    \n",
    "    loss = L.mean()\n",
    "    db = dL.mean()\n",
    "    dw = (X.T @ dL) / N\n",
    "\n",
    "    \n",
    "    loss += alpha * (w @ w) + alpha * b * b\n",
    "    dw += 2 * alpha * w\n",
    "    db += 2 * alpha * b\n",
    "\n",
    "    return loss, dw, np.array(db).reshape(1,)"
   ]
  },
  {
   "cell_type": "markdown",
   "id": "292f866a",
   "metadata": {
    "id": "292f866a"
   },
   "source": [
    "## without regularization"
   ]
  },
  {
   "cell_type": "code",
   "execution_count": 38,
   "id": "ff23bae6",
   "metadata": {
    "colab": {
     "base_uri": "https://localhost:8080/"
    },
    "deletable": false,
    "editable": false,
    "id": "ff23bae6",
    "nbgrader": {
     "cell_type": "code",
     "checksum": "cadca09dc4ee08cf4c73480cfdc14e13",
     "grade": true,
     "grade_id": "cell-cecbe864e0fa149c",
     "locked": true,
     "points": 1.5,
     "schema_version": 3,
     "solution": false,
     "task": false
    },
    "outputId": "c32a189b-96c8-4513-ff40-c509f24d80a4"
   },
   "outputs": [
    {
     "name": "stdout",
     "output_type": "stream",
     "text": [
      "Gradient check w\n",
      "numerical: -17.081635 analytic: -17.081635, relative error: 3.004335e-13\n",
      "numerical: -8.484256 analytic: -8.484256, relative error: 4.187419e-15\n",
      "numerical: -0.093379 analytic: -0.093379, relative error: 3.488238e-10\n",
      "numerical: -481.509943 analytic: -481.509943, relative error: 2.476150e-13\n",
      "numerical: -8.484256 analytic: -8.484256, relative error: 4.187419e-15\n",
      "numerical: -481.509943 analytic: -481.509943, relative error: 2.476150e-13\n",
      "numerical: -5.123308 analytic: -5.123308, relative error: 6.524417e-13\n",
      "numerical: -0.748838 analytic: -0.748838, relative error: 9.981518e-11\n",
      "numerical: -0.093379 analytic: -0.093379, relative error: 3.488238e-10\n",
      "numerical: -8.484256 analytic: -8.484256, relative error: 4.187419e-15\n",
      "numerical: -0.093379 analytic: -0.093379, relative error: 3.488238e-10\n",
      "numerical: -551.120158 analytic: -551.120158, relative error: 1.590444e-13\n",
      "numerical: -92.576117 analytic: -92.576117, relative error: 3.932019e-13\n",
      "numerical: -24.914970 analytic: -24.914970, relative error: 1.701783e-12\n",
      "numerical: -15.340909 analytic: -15.340909, relative error: 1.861011e-12\n",
      "Gradient check bias\n",
      "numerical: -1.350000 analytic: -1.350000, relative error: 7.814087e-11\n",
      "numerical: -1.350000 analytic: -1.350000, relative error: 7.814087e-11\n",
      "numerical: -1.350000 analytic: -1.350000, relative error: 7.814087e-11\n",
      "numerical: -1.350000 analytic: -1.350000, relative error: 7.814087e-11\n",
      "numerical: -1.350000 analytic: -1.350000, relative error: 7.814087e-11\n",
      "numerical: -1.350000 analytic: -1.350000, relative error: 7.814087e-11\n",
      "numerical: -1.350000 analytic: -1.350000, relative error: 7.814087e-11\n",
      "numerical: -1.350000 analytic: -1.350000, relative error: 7.814087e-11\n",
      "numerical: -1.350000 analytic: -1.350000, relative error: 7.814087e-11\n",
      "numerical: -1.350000 analytic: -1.350000, relative error: 7.814087e-11\n",
      "numerical: -1.350000 analytic: -1.350000, relative error: 7.814087e-11\n",
      "numerical: -1.350000 analytic: -1.350000, relative error: 7.814087e-11\n",
      "numerical: -1.350000 analytic: -1.350000, relative error: 7.814087e-11\n",
      "numerical: -1.350000 analytic: -1.350000, relative error: 7.814087e-11\n",
      "numerical: -1.350000 analytic: -1.350000, relative error: 7.814087e-11\n",
      "Gradient check w large epsilon\n",
      "numerical: -1.970827 analytic: -1.970827, relative error: 2.389386e-11\n",
      "numerical: -146.416001 analytic: -146.416001, relative error: 1.598576e-11\n",
      "numerical: -1.970827 analytic: -1.970827, relative error: 2.389386e-11\n",
      "numerical: -146.416001 analytic: -146.416001, relative error: 1.598576e-11\n",
      "numerical: -237.493742 analytic: -237.493742, relative error: 2.215276e-12\n",
      "numerical: -406.737931 analytic: -406.737931, relative error: 1.759648e-12\n",
      "numerical: -8334.091372 analytic: -8334.091372, relative error: 6.002119e-14\n",
      "numerical: -1451.740611 analytic: -1451.740611, relative error: 2.233421e-13\n",
      "numerical: -333.572160 analytic: -333.572160, relative error: 3.358745e-13\n",
      "numerical: -8497.937377 analytic: -8497.937377, relative error: 5.137217e-15\n",
      "numerical: -1.970827 analytic: -1.970827, relative error: 2.389386e-11\n",
      "numerical: -221.159847 analytic: -221.159847, relative error: 1.824357e-12\n",
      "numerical: -237.493742 analytic: -237.493742, relative error: 2.215276e-12\n",
      "numerical: -8334.091372 analytic: -8334.091372, relative error: 6.002119e-14\n",
      "numerical: -146.416001 analytic: -146.416001, relative error: 1.598576e-11\n",
      "Gradient check bias large epsilon\n",
      "numerical: -22.584541 analytic: -22.584541, relative error: 2.737037e-11\n",
      "numerical: -22.584541 analytic: -22.584541, relative error: 2.737037e-11\n",
      "numerical: -22.584541 analytic: -22.584541, relative error: 2.737037e-11\n",
      "numerical: -22.584541 analytic: -22.584541, relative error: 2.737037e-11\n",
      "numerical: -22.584541 analytic: -22.584541, relative error: 2.737037e-11\n",
      "numerical: -22.584541 analytic: -22.584541, relative error: 2.737037e-11\n",
      "numerical: -22.584541 analytic: -22.584541, relative error: 2.737037e-11\n",
      "numerical: -22.584541 analytic: -22.584541, relative error: 2.737037e-11\n",
      "numerical: -22.584541 analytic: -22.584541, relative error: 2.737037e-11\n",
      "numerical: -22.584541 analytic: -22.584541, relative error: 2.737037e-11\n",
      "numerical: -22.584541 analytic: -22.584541, relative error: 2.737037e-11\n",
      "numerical: -22.584541 analytic: -22.584541, relative error: 2.737037e-11\n",
      "numerical: -22.584541 analytic: -22.584541, relative error: 2.737037e-11\n",
      "numerical: -22.584541 analytic: -22.584541, relative error: 2.737037e-11\n",
      "numerical: -22.584541 analytic: -22.584541, relative error: 2.737037e-11\n"
     ]
    }
   ],
   "source": [
    "loss, dw1, db1 = huber_loss_vectorized(w1, b1, X_train1, y_train1, epsilon=1.35, alpha=0)\n",
    "\n",
    "print(\"Gradient check w\")\n",
    "# Check with numerical gradient w\n",
    "f = lambda w1: huber_loss_vectorized(w1, b1, X_train1, y_train1, epsilon=1.35, alpha=0)[0]\n",
    "grad_numerical = grad_check_sparse(f, w1, dw1, 15, error=1e-9)\n",
    "\n",
    "print(\"Gradient check bias\")\n",
    "# Check with numerical gradient b\n",
    "f2 = lambda b1: huber_loss_vectorized(w1, b1, X_train1, y_train1, epsilon=1.35, alpha=0)[0]\n",
    "grad_numerical = grad_check_sparse(f2, b1, db1, 15, error=1e-9)\n",
    "\n",
    "\n",
    "# Large epsilon\n",
    "large_eps_loss, large_eps_dw1, large_eps_db1 = huber_loss_naive(w1, b1, X_train1, y_train1, epsilon=135, alpha=0)\n",
    "\n",
    "print(\"Gradient check w large epsilon\")\n",
    "# Check with numerical gradient w\n",
    "f = lambda w1: huber_loss_vectorized(w1, b1, X_train1, y_train1, epsilon=135, alpha=0)[0]\n",
    "grad_numerical = grad_check_sparse(f, w1, large_eps_dw1, 15, error=1e-9)\n",
    "\n",
    "print(\"Gradient check bias large epsilon\")\n",
    "# Check with numerical gradient b\n",
    "f2 = lambda b1: huber_loss_vectorized(w1, b1, X_train1, y_train1, epsilon=135, alpha=0)[0]\n",
    "grad_numerical = grad_check_sparse(f2, b1, large_eps_db1, 15, error=1e-9)"
   ]
  },
  {
   "cell_type": "markdown",
   "id": "5d367b1c",
   "metadata": {
    "id": "5d367b1c"
   },
   "source": [
    "## with regularization"
   ]
  },
  {
   "cell_type": "code",
   "execution_count": 39,
   "id": "ee9c47a5",
   "metadata": {
    "colab": {
     "base_uri": "https://localhost:8080/"
    },
    "deletable": false,
    "editable": false,
    "id": "ee9c47a5",
    "nbgrader": {
     "cell_type": "code",
     "checksum": "353c4a3ff31d5ae93f310db8aada6b16",
     "grade": true,
     "grade_id": "cell-fc0f22937553dd38",
     "locked": true,
     "points": 1.5,
     "schema_version": 3,
     "solution": false,
     "task": false
    },
    "outputId": "2c9a7d5d-0dd0-40da-9582-c78faa0b81bd"
   },
   "outputs": [
    {
     "name": "stdout",
     "output_type": "stream",
     "text": [
      "Gradient check w\n",
      "numerical: -24.915106 analytic: -24.915106, relative error: 2.219171e-12\n",
      "numerical: -12.891446 analytic: -12.891446, relative error: 2.749255e-12\n",
      "numerical: -15.340710 analytic: -15.340710, relative error: 2.702855e-12\n",
      "numerical: -481.509962 analytic: -481.509962, relative error: 2.809648e-13\n",
      "numerical: -4.878474 analytic: -4.878474, relative error: 2.034902e-11\n",
      "numerical: -8.483926 analytic: -8.483926, relative error: 2.542595e-12\n",
      "numerical: -15.340710 analytic: -15.340710, relative error: 2.702855e-12\n",
      "numerical: -24.915106 analytic: -24.915106, relative error: 2.219171e-12\n",
      "numerical: -15.034595 analytic: -15.034595, relative error: 6.582209e-13\n",
      "numerical: -4.878474 analytic: -4.878474, relative error: 2.034902e-11\n",
      "numerical: -551.120331 analytic: -551.120331, relative error: 1.491427e-13\n",
      "numerical: -8.483926 analytic: -8.483926, relative error: 2.542595e-12\n",
      "numerical: -551.120331 analytic: -551.120331, relative error: 1.491427e-13\n",
      "numerical: -5.123393 analytic: -5.123393, relative error: 4.741153e-12\n",
      "numerical: -15.340710 analytic: -15.340710, relative error: 2.702855e-12\n",
      "Gradient check bias\n",
      "numerical: -1.350128 analytic: -1.350128, relative error: 5.830257e-11\n",
      "numerical: -1.350128 analytic: -1.350128, relative error: 5.830257e-11\n",
      "numerical: -1.350128 analytic: -1.350128, relative error: 5.830257e-11\n",
      "numerical: -1.350128 analytic: -1.350128, relative error: 5.830257e-11\n",
      "numerical: -1.350128 analytic: -1.350128, relative error: 5.830257e-11\n",
      "numerical: -1.350128 analytic: -1.350128, relative error: 5.830257e-11\n",
      "numerical: -1.350128 analytic: -1.350128, relative error: 5.830257e-11\n",
      "numerical: -1.350128 analytic: -1.350128, relative error: 5.830257e-11\n",
      "numerical: -1.350128 analytic: -1.350128, relative error: 5.830257e-11\n",
      "numerical: -1.350128 analytic: -1.350128, relative error: 5.830257e-11\n",
      "numerical: -1.350128 analytic: -1.350128, relative error: 5.830257e-11\n",
      "numerical: -1.350128 analytic: -1.350128, relative error: 5.830257e-11\n",
      "numerical: -1.350128 analytic: -1.350128, relative error: 5.830257e-11\n",
      "numerical: -1.350128 analytic: -1.350128, relative error: 5.830257e-11\n",
      "numerical: -1.350128 analytic: -1.350128, relative error: 5.830257e-11\n",
      "Gradient check w large epsilon\n",
      "numerical: -90.512036 analytic: -90.512036, relative error: 1.262204e-11\n",
      "numerical: -185.303895 analytic: -185.303895, relative error: 6.095201e-12\n",
      "numerical: -8497.937550 analytic: -8497.937550, relative error: 7.759338e-14\n",
      "numerical: -51.044647 analytic: -51.044647, relative error: 6.240089e-11\n",
      "numerical: -146.415670 analytic: -146.415670, relative error: 1.098535e-11\n",
      "numerical: -333.571961 analytic: -333.571961, relative error: 5.634549e-13\n",
      "numerical: -185.303895 analytic: -185.303895, relative error: 6.095201e-12\n",
      "numerical: -333.571961 analytic: -333.571961, relative error: 5.634549e-13\n",
      "numerical: -1451.741096 analytic: -1451.741096, relative error: 8.391773e-13\n",
      "numerical: -51.044647 analytic: -51.044647, relative error: 6.240089e-11\n",
      "numerical: -146.415670 analytic: -146.415670, relative error: 1.098535e-11\n",
      "numerical: -1451.741096 analytic: -1451.741096, relative error: 8.391773e-13\n",
      "numerical: -51.044647 analytic: -51.044647, relative error: 6.240089e-11\n",
      "numerical: -333.571961 analytic: -333.571961, relative error: 5.634549e-13\n",
      "numerical: -51.044647 analytic: -51.044647, relative error: 6.240089e-11\n",
      "Gradient check bias large epsilon\n",
      "numerical: -22.584669 analytic: -22.584669, relative error: 1.045403e-11\n",
      "numerical: -22.584669 analytic: -22.584669, relative error: 1.045403e-11\n",
      "numerical: -22.584669 analytic: -22.584669, relative error: 1.045403e-11\n",
      "numerical: -22.584669 analytic: -22.584669, relative error: 1.045403e-11\n",
      "numerical: -22.584669 analytic: -22.584669, relative error: 1.045403e-11\n",
      "numerical: -22.584669 analytic: -22.584669, relative error: 1.045403e-11\n",
      "numerical: -22.584669 analytic: -22.584669, relative error: 1.045403e-11\n",
      "numerical: -22.584669 analytic: -22.584669, relative error: 1.045403e-11\n",
      "numerical: -22.584669 analytic: -22.584669, relative error: 1.045403e-11\n",
      "numerical: -22.584669 analytic: -22.584669, relative error: 1.045403e-11\n",
      "numerical: -22.584669 analytic: -22.584669, relative error: 1.045403e-11\n",
      "numerical: -22.584669 analytic: -22.584669, relative error: 1.045403e-11\n",
      "numerical: -22.584669 analytic: -22.584669, relative error: 1.045403e-11\n",
      "numerical: -22.584669 analytic: -22.584669, relative error: 1.045403e-11\n",
      "numerical: -22.584669 analytic: -22.584669, relative error: 1.045403e-11\n"
     ]
    }
   ],
   "source": [
    "loss, dw1, db1 = huber_loss_vectorized(w1, b1, X_train1, y_train1, epsilon=1.35, alpha=1)\n",
    "\n",
    "print(\"Gradient check w\")\n",
    "# Check with numerical gradient w\n",
    "f = lambda w1: huber_loss_vectorized(w1, b1, X_train1, y_train1, epsilon=1.35, alpha=1)[0]\n",
    "grad_numerical = grad_check_sparse(f, w1, dw1, 15, error=1e-9)\n",
    "\n",
    "print(\"Gradient check bias\")\n",
    "# Check with numerical gradient b\n",
    "f2 = lambda b1: huber_loss_vectorized(w1, b1, X_train1, y_train1, epsilon=1.35, alpha=1)[0]\n",
    "grad_numerical = grad_check_sparse(f2, b1, db1, 15, error=1e-9)\n",
    "\n",
    "\n",
    "# Large epsilon\n",
    "large_eps_loss, large_eps_dw1, large_eps_db1 = huber_loss_naive(w1, b1, X_train1, y_train1, epsilon=135, alpha=1)\n",
    "\n",
    "print(\"Gradient check w large epsilon\")\n",
    "# Check with numerical gradient w\n",
    "f = lambda w1: huber_loss_vectorized(w1, b1, X_train1, y_train1, epsilon=135, alpha=1)[0]\n",
    "grad_numerical = grad_check_sparse(f, w1, large_eps_dw1, 15, error=1e-9)\n",
    "\n",
    "print(\"Gradient check bias large epsilon\")\n",
    "# Check with numerical gradient b\n",
    "f2 = lambda b1: huber_loss_vectorized(w1, b1, X_train1, y_train1, epsilon=135, alpha=1)[0]\n",
    "grad_numerical = grad_check_sparse(f2, b1, large_eps_db1, 15, error=1e-9)"
   ]
  },
  {
   "cell_type": "code",
   "execution_count": 40,
   "id": "ed260f95",
   "metadata": {
    "deletable": false,
    "id": "ed260f95",
    "nbgrader": {
     "cell_type": "code",
     "checksum": "51a2209d0893d2b94c64bc684159f81c",
     "grade": false,
     "grade_id": "cell-9bc0bf420f2797ba",
     "locked": false,
     "schema_version": 3,
     "solution": true,
     "task": false
    }
   },
   "outputs": [],
   "source": [
    "class LinearModel():\n",
    "    def __init__(self):\n",
    "        self.w = None\n",
    "        self.b = None\n",
    "\n",
    "    def train(self, X, y, learning_rate=1e-3, alpha=0.0001, num_iters=100, batch_size=200, verbose=False):\n",
    "        N, d = X.shape\n",
    "\n",
    "        if self.w is None: # Initialization\n",
    "            self.w = 0.001 * np.random.randn(d)\n",
    "            self.b = 0.0\n",
    "\n",
    "        # Run stochastic gradient descent to optimize w\n",
    "\n",
    "        loss_history = []\n",
    "        for it in range(num_iters):\n",
    "\n",
    "            index = np.random.choice(N, batch_size, replace=False)\n",
    "            X_batch = X[index, :]\n",
    "            y_batch = y[index]\n",
    "\n",
    "            # evaluate loss and gradient\n",
    "            loss, dw, db = self.loss(X_batch, y_batch, alpha)\n",
    "            loss_history.append(loss)\n",
    "\n",
    "            self.w -= learning_rate * dw\n",
    "            self.b -= learning_rate * db\n",
    "\n",
    "            if verbose and it % 10000 == 0:\n",
    "                print(\"iteration %d / %d: loss %f\" % (it, num_iters, loss))\n",
    "\n",
    "        return loss_history\n",
    "\n",
    "    def predict(self, X):\n",
    "        pass\n",
    "\n",
    "    def loss(self, X_batch, y_batch, reg):\n",
    "        pass\n",
    "\n",
    "class HuberRegression(LinearModel):\n",
    "    \"\"\" Linear regression \"\"\"\n",
    "\n",
    "    def loss(self, X_batch, y_batch, alpha):\n",
    "        return huber_loss_vectorized(self.w, self.b, X_batch, y_batch, alpha=alpha)\n",
    "\n",
    "    def predict(self, X):\n",
    "        return X @ self.w + self.b"
   ]
  },
  {
   "cell_type": "code",
   "execution_count": 41,
   "id": "766c7c05",
   "metadata": {
    "colab": {
     "base_uri": "https://localhost:8080/"
    },
    "deletable": false,
    "editable": false,
    "id": "766c7c05",
    "nbgrader": {
     "cell_type": "code",
     "checksum": "f0baa5b2cf387331bd0a892f09b68ffc",
     "grade": true,
     "grade_id": "cell-43a5575eb3552466",
     "locked": true,
     "points": 1,
     "schema_version": 3,
     "solution": false,
     "task": false
    },
    "outputId": "20b96815-e5b8-47a8-cd88-1e2dc1a54c92"
   },
   "outputs": [
    {
     "name": "stdout",
     "output_type": "stream",
     "text": [
      "iteration 0 / 75000: loss 28.739515\n",
      "iteration 10000 / 75000: loss 3.639797\n",
      "iteration 20000 / 75000: loss 3.186416\n",
      "iteration 30000 / 75000: loss 4.606638\n",
      "iteration 40000 / 75000: loss 2.861491\n",
      "iteration 50000 / 75000: loss 1.875911\n",
      "iteration 60000 / 75000: loss 2.337350\n",
      "iteration 70000 / 75000: loss 3.312214\n",
      "MSE scikit-learn: 24.04102301055773\n",
      "MSE gradient descent model : 24.340232992827627\n"
     ]
    }
   ],
   "source": [
    "from sklearn.preprocessing import StandardScaler\n",
    "\n",
    "scaler = StandardScaler()\n",
    "X_train1 = scaler.fit_transform(X_train1)\n",
    "\n",
    "sk_model = HuberRegressor(fit_intercept=True)\n",
    "sk_model.fit(X_train1, y_train1)\n",
    "sk_pred = sk_model.predict(X_train1)\n",
    "sk_mse = mean_squared_error(sk_pred, y_train1)\n",
    "\n",
    "model = HuberRegression()\n",
    "model.train(X_train1, y_train1, num_iters=75000, batch_size=64, learning_rate=1e-2, verbose=True)\n",
    "pred = model.predict(X_train1)\n",
    "mse = mean_squared_error(pred, y_train1)\n",
    "\n",
    "print(\"MSE scikit-learn:\", sk_mse)\n",
    "print(\"MSE gradient descent model :\", mse)\n",
    "assert mse - sk_mse < 1"
   ]
  },
  {
   "cell_type": "markdown",
   "id": "d4f24bf4",
   "metadata": {
    "id": "d4f24bf4"
   },
   "source": [
    "# Multinomial logistic regression"
   ]
  },
  {
   "cell_type": "code",
   "execution_count": 42,
   "id": "b194affb",
   "metadata": {
    "deletable": false,
    "editable": false,
    "id": "b194affb",
    "nbgrader": {
     "cell_type": "code",
     "checksum": "fcf6c9bab4975732f03ce6c8215e72be",
     "grade": false,
     "grade_id": "cell-27c3352e3785ecdb",
     "locked": true,
     "schema_version": 3,
     "solution": false,
     "task": false
    }
   },
   "outputs": [],
   "source": [
    "data = load_iris()\n",
    "X_train2, y_train2 = data.data, data.target\n",
    "\n",
    "W = np.random.randn(X_train2.shape[1], 3) * 0.0001"
   ]
  },
  {
   "cell_type": "code",
   "execution_count": 43,
   "id": "d8405c63",
   "metadata": {
    "deletable": false,
    "id": "d8405c63",
    "nbgrader": {
     "cell_type": "code",
     "checksum": "af6fecc0ab19bd2c392db4255a946d03",
     "grade": false,
     "grade_id": "cell-9049b2a8d3edaeaf",
     "locked": false,
     "schema_version": 3,
     "solution": true,
     "task": false
    }
   },
   "outputs": [],
   "source": [
    "def softmax_loss_naive(W, X, y, alpha):\n",
    "    \"\"\"\n",
    "    Softmax loss function WITH FOR LOOPS\n",
    "\n",
    "    Inputs:\n",
    "    - W: array of shape (D, C) containing weights\n",
    "    - X: array of shape (N, D) containing a minibatch of data\n",
    "    - y: array of shape (N,) containing training labels\n",
    "    - alpha: (float) regularization\n",
    "\n",
    "    Returns a tuple of:\n",
    "    - loss as single float\n",
    "    - gradient with respect to weights W;  same shape as W\n",
    "    \"\"\"\n",
    "\n",
    "    # Initialization\n",
    "    loss = 0.0\n",
    "    dW = np.zeros_like(W)\n",
    "  \n",
    "    C = len(np.unique(y))\n",
    "    N, D = X.shape\n",
    "\n",
    "    for i in range(N):\n",
    "        pi = np.zeros(C)\n",
    "        for k in range(C):\n",
    "            pi[k] = X[i] @ W[:,k]\n",
    "        pi = np.exp(pi)\n",
    "        pi /= pi.sum()\n",
    "        \n",
    "        for k in range(C):\n",
    "            loss -= (k == y[i]) * np.log(pi[k])\n",
    "            for j in range(D):\n",
    "                dW[j, k] -= X[i, j] * ((k == y[i]) - pi[k])\n",
    "       \n",
    "    loss += np.sum (alpha * W**2)\n",
    "    dW += 2 * alpha * W\n",
    "    \n",
    "    return loss, dW"
   ]
  },
  {
   "cell_type": "markdown",
   "id": "8b9aa529",
   "metadata": {
    "id": "8b9aa529"
   },
   "source": [
    "## Without regularization"
   ]
  },
  {
   "cell_type": "code",
   "execution_count": 44,
   "id": "0eea225f",
   "metadata": {
    "deletable": false,
    "editable": false,
    "id": "0eea225f",
    "nbgrader": {
     "cell_type": "code",
     "checksum": "ac16981288c3c2f604ad8bab7defad33",
     "grade": true,
     "grade_id": "cell-878cebbdfa4e3f9b",
     "locked": true,
     "points": 1,
     "schema_version": 3,
     "solution": false,
     "task": false
    }
   },
   "outputs": [
    {
     "name": "stdout",
     "output_type": "stream",
     "text": [
      "numerical: -41.309561 analytic: -41.309561, relative error: 2.867546e-11\n",
      "numerical: 41.784076 analytic: 41.784076, relative error: 3.884906e-10\n",
      "numerical: 114.741046 analytic: 114.741046, relative error: 6.266138e-11\n",
      "numerical: -4.649518 analytic: -4.649518, relative error: 3.543856e-09\n",
      "numerical: 4.214269 analytic: 4.214269, relative error: 1.134006e-10\n",
      "numerical: -4.649518 analytic: -4.649518, relative error: 3.543856e-09\n",
      "numerical: -89.628533 analytic: -89.628533, relative error: 6.150588e-11\n",
      "numerical: 47.647283 analytic: 47.647283, relative error: 5.981568e-11\n",
      "numerical: -89.628533 analytic: -89.628533, relative error: 6.150588e-11\n",
      "numerical: -18.573172 analytic: -18.573172, relative error: 2.214723e-10\n",
      "numerical: -89.628533 analytic: -89.628533, relative error: 6.150588e-11\n",
      "numerical: 41.784076 analytic: 41.784076, relative error: 3.884906e-10\n"
     ]
    }
   ],
   "source": [
    "loss, dW = softmax_loss_naive(W, X_train2, y_train2, 0.0)\n",
    "\n",
    "f = lambda W: softmax_loss_naive(W, X_train2, y_train2, 0.0)[0]\n",
    "grad_numerical = grad_check_sparse(f, W, dW, error=1e-7)"
   ]
  },
  {
   "cell_type": "markdown",
   "id": "7edea2f2",
   "metadata": {
    "id": "7edea2f2"
   },
   "source": [
    "## With regularization"
   ]
  },
  {
   "cell_type": "code",
   "execution_count": 45,
   "id": "533001ff",
   "metadata": {
    "deletable": false,
    "editable": false,
    "id": "533001ff",
    "nbgrader": {
     "cell_type": "code",
     "checksum": "bd9a1e462d23666f55369d6b9d152117",
     "grade": true,
     "grade_id": "cell-ead29b6569263a0f",
     "locked": true,
     "points": 1,
     "schema_version": 3,
     "solution": false,
     "task": false
    }
   },
   "outputs": [
    {
     "name": "stdout",
     "output_type": "stream",
     "text": [
      "numerical: -89.628719 analytic: -89.628719, relative error: 6.298188e-11\n",
      "numerical: 14.358452 analytic: 14.358452, relative error: 2.514232e-10\n",
      "numerical: 47.647356 analytic: 47.647356, relative error: 5.989268e-11\n",
      "numerical: -25.112768 analytic: -25.112768, relative error: 3.961913e-10\n",
      "numerical: 114.740862 analytic: 114.740862, relative error: 6.324210e-11\n",
      "numerical: -25.112768 analytic: -25.112768, relative error: 3.961913e-10\n",
      "numerical: 4.213474 analytic: 4.213474, relative error: 7.707101e-11\n",
      "numerical: 114.740862 analytic: 114.740862, relative error: 6.324210e-11\n",
      "numerical: -6.337892 analytic: -6.337892, relative error: 2.166521e-10\n",
      "numerical: 41.783505 analytic: 41.783505, relative error: 3.862312e-10\n",
      "numerical: 41.783505 analytic: 41.783505, relative error: 3.862312e-10\n",
      "numerical: 4.213474 analytic: 4.213474, relative error: 7.707101e-11\n"
     ]
    }
   ],
   "source": [
    "loss, dW = softmax_loss_naive(W, X_train2, y_train2, 2)\n",
    "\n",
    "f = lambda W: softmax_loss_naive(W, X_train2, y_train2, 2)[0]\n",
    "grad_numerical = grad_check_sparse(f, W, dW, error=1e-7)"
   ]
  },
  {
   "cell_type": "code",
   "execution_count": 46,
   "id": "c2593d82",
   "metadata": {
    "deletable": false,
    "id": "c2593d82",
    "nbgrader": {
     "cell_type": "code",
     "checksum": "48f52a4942e2b468f5775c5c7fbd2617",
     "grade": false,
     "grade_id": "cell-11e6980597b20334",
     "locked": false,
     "schema_version": 3,
     "solution": true,
     "task": false
    }
   },
   "outputs": [],
   "source": [
    "def softmax_loss_vectorized(W, X, y, alpha, fit_intercept=False):\n",
    "    \"\"\"\n",
    "    Softmax loss function WITHOUT FOR LOOPS\n",
    "\n",
    "    Inputs:\n",
    "    - W: array of shape (D, C) containing weights\n",
    "    - X: array of shape (N, D) containing a minibatch of data\n",
    "    - y: array of shape (N,) containing training labels\n",
    "    - alpha: (float) regularization\n",
    "\n",
    "    Returns a tuple of:\n",
    "    - loss as single float\n",
    "    - gradient with respect to weights W;  same shape as W\n",
    "    \"\"\"\n",
    "    # Initialize the loss and gradient to zero.\n",
    "    loss = 0.0\n",
    "    dW = np.zeros_like(W)\n",
    "    \n",
    "    C = len(np.unique(y))\n",
    "    N, D = X.shape\n",
    "    \n",
    "    probs = np.exp(X @ W).T\n",
    "    probs /= np.sum(probs, axis=0)\n",
    "    \n",
    "    loss -= np.sum(np.log(probs.T[np.ix_(np.arange(N), y)].diagonal()))\n",
    "    dW += X.T @ (probs.T - np.eye(C)[y, :])\n",
    "    \n",
    "    loss += np.sum (alpha * W**2)\n",
    "    dW += 2 * alpha * W\n",
    "    \n",
    "    return loss, dW"
   ]
  },
  {
   "cell_type": "markdown",
   "id": "ddea508b",
   "metadata": {
    "id": "ddea508b"
   },
   "source": [
    "## Without regularization"
   ]
  },
  {
   "cell_type": "code",
   "execution_count": 47,
   "id": "78f759e2",
   "metadata": {
    "deletable": false,
    "editable": false,
    "id": "78f759e2",
    "nbgrader": {
     "cell_type": "code",
     "checksum": "441d40ba642d3a505582eaeb87981127",
     "grade": true,
     "grade_id": "cell-0bc0fcf0bd3d3f13",
     "locked": true,
     "points": 1,
     "schema_version": 3,
     "solution": false,
     "task": false
    }
   },
   "outputs": [
    {
     "name": "stdout",
     "output_type": "stream",
     "text": [
      "numerical: -89.628533 analytic: -89.628533, relative error: 9.321636e-11\n",
      "numerical: -37.134559 analytic: -37.134559, relative error: 5.350852e-10\n",
      "numerical: -37.134559 analytic: -37.134559, relative error: 5.350852e-10\n",
      "numerical: -25.112512 analytic: -25.112512, relative error: 2.864185e-10\n",
      "numerical: -37.134559 analytic: -37.134559, relative error: 5.350852e-10\n",
      "numerical: -89.628533 analytic: -89.628533, relative error: 9.321636e-11\n",
      "numerical: 41.784076 analytic: 41.784076, relative error: 4.905214e-10\n",
      "numerical: 114.741046 analytic: 114.741046, relative error: 7.504654e-11\n",
      "numerical: -6.337722 analytic: -6.337722, relative error: 1.881496e-10\n",
      "numerical: -4.649518 analytic: -4.649518, relative error: 4.307960e-09\n",
      "numerical: 47.647283 analytic: 47.647283, relative error: 1.654548e-13\n",
      "numerical: 114.741046 analytic: 114.741046, relative error: 7.504654e-11\n"
     ]
    }
   ],
   "source": [
    "loss, dW = softmax_loss_vectorized(W, X_train2, y_train2, 0.0)\n",
    "\n",
    "f = lambda W: softmax_loss_vectorized(W, X_train2, y_train2, 0.0)[0]\n",
    "grad_numerical = grad_check_sparse(f, W, dW, error=1e-7)"
   ]
  },
  {
   "cell_type": "markdown",
   "id": "27c84f53",
   "metadata": {
    "id": "27c84f53"
   },
   "source": [
    "## With regularization"
   ]
  },
  {
   "cell_type": "code",
   "execution_count": 48,
   "id": "8bddf43a",
   "metadata": {
    "deletable": false,
    "editable": false,
    "id": "8bddf43a",
    "nbgrader": {
     "cell_type": "code",
     "checksum": "6475ed3a14441d5488ecb46ec2522bbb",
     "grade": true,
     "grade_id": "cell-1fe0149d053dade0",
     "locked": true,
     "points": 1,
     "schema_version": 3,
     "solution": false,
     "task": false
    }
   },
   "outputs": [
    {
     "name": "stdout",
     "output_type": "stream",
     "text": [
      "numerical: -37.134198 analytic: -37.134198, relative error: 5.389547e-10\n",
      "numerical: 4.213474 analytic: 4.213474, relative error: 4.143409e-10\n",
      "numerical: 41.783505 analytic: 41.783505, relative error: 4.882635e-10\n",
      "numerical: 47.647356 analytic: 47.647356, relative error: 2.425523e-13\n",
      "numerical: -89.628719 analytic: -89.628719, relative error: 9.469229e-11\n",
      "numerical: 14.358452 analytic: 14.358452, relative error: 2.019369e-10\n",
      "numerical: -6.337892 analytic: -6.337892, relative error: 1.196787e-10\n",
      "numerical: 4.213474 analytic: 4.213474, relative error: 4.143409e-10\n",
      "numerical: 114.740862 analytic: 114.740862, relative error: 7.562727e-11\n",
      "numerical: 47.647356 analytic: 47.647356, relative error: 2.425523e-13\n",
      "numerical: 4.213474 analytic: 4.213474, relative error: 4.143409e-10\n",
      "numerical: 47.647356 analytic: 47.647356, relative error: 2.425523e-13\n"
     ]
    }
   ],
   "source": [
    "loss, dW = softmax_loss_vectorized(W, X_train2, y_train2, 2)\n",
    "\n",
    "f = lambda W: softmax_loss_vectorized(W, X_train2, y_train2, 2)[0]\n",
    "grad_numerical = grad_check_sparse(f, W, dW, error=1e-7)"
   ]
  },
  {
   "cell_type": "markdown",
   "id": "ab7e247a",
   "metadata": {
    "id": "ab7e247a"
   },
   "source": [
    "## Gradient descent"
   ]
  },
  {
   "cell_type": "code",
   "execution_count": 49,
   "id": "9dff0bbc",
   "metadata": {
    "deletable": false,
    "id": "9dff0bbc",
    "nbgrader": {
     "cell_type": "code",
     "checksum": "a0cedf5c70f5cf04cdd8b74702815dba",
     "grade": false,
     "grade_id": "cell-0f69bb891603b665",
     "locked": false,
     "schema_version": 3,
     "solution": true,
     "task": false
    }
   },
   "outputs": [],
   "source": [
    "class LinearModel():\n",
    "    def __init__(self, fit_intercept=True):\n",
    "        self.W = None\n",
    "        self.fit_intercept = fit_intercept\n",
    "\n",
    "    def train(self, X, y, learning_rate=1e-3, alpha=0, num_iters=100, batch_size=200, verbose=False):\n",
    "        if self.fit_intercept:\n",
    "            X =  np.hstack( (np.ones((X.shape[0],1)), X) )\n",
    "\n",
    "        N, d = X.shape\n",
    "\n",
    "        C = (np.max(y) + 1)\n",
    "        if self.W is None: # Initialization\n",
    "            self.W = 0.001 * np.random.randn(d, C)\n",
    "\n",
    "        # Run stochastic gradient descent to optimize W\n",
    "\n",
    "        loss_history = []\n",
    "        for it in range(num_iters):\n",
    "            \n",
    "            index = np.random.choice(N, batch_size, replace=False)\n",
    "            X_batch = X[index, :]\n",
    "            y_batch = y[index]\n",
    "\n",
    "            # evaluate loss and gradient\n",
    "            loss, dW = self.loss(X_batch, y_batch, alpha)\n",
    "            loss_history.append(loss)\n",
    "\n",
    "            self.W -= learning_rate * dW\n",
    "\n",
    "            if verbose and it % 10000 == 0:\n",
    "                print(\"iteration %d / %d: loss %f\" % (it, num_iters, loss))\n",
    "\n",
    "        return loss_history\n",
    "\n",
    "    def predict(self, X):\n",
    "        pass\n",
    "\n",
    "    def loss(self, X_batch, y_batch, reg):\n",
    "        pass\n",
    "\n",
    "class MultinomialLogisticRegressor(LinearModel):\n",
    "    \"\"\" Softmax regression \"\"\"\n",
    "\n",
    "    def loss(self, X_batch, y_batch, alpha):\n",
    "        return softmax_loss_vectorized(self.W, X_batch, y_batch, alpha)\n",
    "\n",
    "    def predict(self, X):\n",
    "        \"\"\"\n",
    "        Inputs:\n",
    "        - X: array of shape (N, D)\n",
    "\n",
    "        Returns:\n",
    "        - y_pred: 1-dimensional array of length N, each element is an integer giving the predicted class\n",
    "        \"\"\"\n",
    "        if self.fit_intercept:\n",
    "            X =  np.hstack( (np.ones((X.shape[0],1)), X) )\n",
    "            \n",
    "        y_pred = np.argmax(X @ self.W, axis=1)\n",
    "        return y_pred"
   ]
  },
  {
   "cell_type": "code",
   "execution_count": null,
   "id": "ce21aaa4",
   "metadata": {
    "deletable": false,
    "editable": false,
    "id": "ce21aaa4",
    "nbgrader": {
     "cell_type": "code",
     "checksum": "56aacc6a9e4ede50cd934a81dfd9915f",
     "grade": true,
     "grade_id": "cell-8569aecb5759a819",
     "locked": true,
     "points": 1,
     "schema_version": 3,
     "solution": false,
     "task": false
    }
   },
   "outputs": [],
   "source": [
    "from sklearn.linear_model import LogisticRegression\n",
    "from sklearn.preprocessing import StandardScaler\n",
    "\n",
    "scaler = StandardScaler()\n",
    "X_train2 = scaler.fit_transform(X_train2)\n",
    "\n",
    "sk_model = LogisticRegression(fit_intercept=False)\n",
    "sk_model.fit(X_train2, y_train2)\n",
    "sk_pred = sk_model.predict(X_train2)\n",
    "sk_accuracy = accuracy_score(y_train2, sk_pred)\n",
    "\n",
    "model = MultinomialLogisticRegressor(fit_intercept=False)\n",
    "model.train(X_train2, y_train2, num_iters=75000, batch_size=64, learning_rate=1e-3, verbose=True)\n",
    "pred = model.predict(X_train2)\n",
    "model_accuracy = accuracy_score(y_train2, pred)\n",
    "\n",
    "print(\"Accuracy scikit-learn:\", sk_accuracy)\n",
    "print(\"Accuracy gradient descent model :\", model_accuracy)\n",
    "assert sk_accuracy - model_accuracy < 0.01"
   ]
  },
  {
   "cell_type": "code",
   "execution_count": 51,
   "id": "b2c6a8ad",
   "metadata": {
    "deletable": false,
    "editable": false,
    "id": "b2c6a8ad",
    "nbgrader": {
     "cell_type": "code",
     "checksum": "40a4732103eaf77860c941e0897de01c",
     "grade": true,
     "grade_id": "cell-30e12569fdfb269c",
     "locked": true,
     "points": 1,
     "schema_version": 3,
     "solution": false,
     "task": false
    }
   },
   "outputs": [
    {
     "name": "stdout",
     "output_type": "stream",
     "text": [
      "iteration 0 / 75000: loss 70.309919\n",
      "iteration 10000 / 75000: loss 4.283092\n",
      "iteration 20000 / 75000: loss 2.773059\n",
      "iteration 30000 / 75000: loss 1.718742\n",
      "iteration 40000 / 75000: loss 2.054056\n",
      "iteration 50000 / 75000: loss 3.970647\n",
      "iteration 60000 / 75000: loss 4.078693\n",
      "iteration 70000 / 75000: loss 2.061785\n",
      "Accuracy scikit-learn: 0.9733333333333334\n",
      "Accuracy gradient descent model : 0.9866666666666667\n"
     ]
    }
   ],
   "source": [
    "sk_model = LogisticRegression(fit_intercept=True)\n",
    "sk_model.fit(X_train2, y_train2)\n",
    "sk_pred = sk_model.predict(X_train2)\n",
    "sk_accuracy = accuracy_score(y_train2, sk_pred)\n",
    "\n",
    "model = MultinomialLogisticRegressor(fit_intercept=True)\n",
    "model.train(X_train2, y_train2, num_iters=75000, batch_size=64, learning_rate=1e-3, verbose=True)\n",
    "pred = model.predict(X_train2)\n",
    "model_accuracy = accuracy_score(y_train2, pred)\n",
    "\n",
    "print(\"Accuracy scikit-learn:\", sk_accuracy)\n",
    "print(\"Accuracy gradient descent model :\", model_accuracy)\n",
    "assert sk_accuracy - model_accuracy < 0.02"
   ]
  },
  {
   "cell_type": "markdown",
   "id": "62032646",
   "metadata": {
    "id": "62032646"
   },
   "source": [
    "# K-Nearest Neighbor"
   ]
  },
  {
   "cell_type": "markdown",
   "id": "a3c81034",
   "metadata": {
    "id": "a3c81034"
   },
   "source": [
    "## Computing distances"
   ]
  },
  {
   "cell_type": "code",
   "execution_count": 52,
   "id": "8a97c549",
   "metadata": {
    "deletable": false,
    "editable": false,
    "id": "8a97c549",
    "nbgrader": {
     "cell_type": "code",
     "checksum": "858935a2455a3ca0e416b3084b730e7f",
     "grade": false,
     "grade_id": "cell-9738d380318b956f",
     "locked": true,
     "schema_version": 3,
     "solution": false,
     "task": false
    }
   },
   "outputs": [],
   "source": [
    "data = load_digits()\n",
    "X_train3, y_train3 = data.data, data.target\n",
    "X_train3, X_test3, y_train3, y_test3 = train_test_split(X_train3, y_train3, test_size=0.33, random_state=2)\n",
    "\n",
    "def get_distances_two_loops_with_norm(X_train, X_test):\n",
    "    num_test = X_test.shape[0]\n",
    "    num_train = X_train.shape[0]\n",
    "    distances = np.zeros((num_test, num_train))\n",
    "    for i in range(num_test):\n",
    "        for j in range(num_train):\n",
    "            distances[i, j] = np.linalg.norm(X_test[i] - X_train[j])\n",
    "    return distances"
   ]
  },
  {
   "cell_type": "code",
   "execution_count": 53,
   "id": "d1b01336",
   "metadata": {
    "deletable": false,
    "id": "d1b01336",
    "nbgrader": {
     "cell_type": "code",
     "checksum": "6cfd476a7819d38b3c8ef47443365f64",
     "grade": false,
     "grade_id": "cell-4756294c792f6985",
     "locked": false,
     "schema_version": 3,
     "solution": true,
     "task": false
    }
   },
   "outputs": [],
   "source": [
    "def get_distances_two_loops(X_train, X_test):\n",
    "    \"\"\"\n",
    "    Compute the distance between each test point in X_test and each training point\n",
    "    in X_train\n",
    "\n",
    "    Inputs:\n",
    "    - X_test: array of shape (num_test, D)\n",
    "\n",
    "    Returns:\n",
    "    - distances: array of shape (num_test, num_train), dists[i, j] is Euclidean distance between\n",
    "    the ith test point and the jth training point.\n",
    "    \"\"\"\n",
    "    num_test, D = X_test.shape\n",
    "    num_train = X_train.shape[0]\n",
    "    distances = np.zeros((num_test, num_train))\n",
    "    for i in range(num_test):\n",
    "        for j in range(num_train):\n",
    "            for k in range(D):\n",
    "                distances[i, j] += (X_train[j, k] - X_test[i, k])**2\n",
    "            distances[i, j] = np.sqrt(distances[i, j])\n",
    "    return distances"
   ]
  },
  {
   "cell_type": "code",
   "execution_count": 54,
   "id": "da674674",
   "metadata": {
    "deletable": false,
    "editable": false,
    "id": "da674674",
    "nbgrader": {
     "cell_type": "code",
     "checksum": "78d07191456013c3a22619c2d26e2503",
     "grade": true,
     "grade_id": "cell-76b63cae5d6a5977",
     "locked": true,
     "points": 1,
     "schema_version": 3,
     "solution": false,
     "task": false
    }
   },
   "outputs": [
    {
     "name": "stdout",
     "output_type": "stream",
     "text": [
      "0.0\n"
     ]
    }
   ],
   "source": [
    "distances = get_distances_two_loops(X_train3, X_test3)\n",
    "true_distances = get_distances_two_loops_with_norm(X_train3, X_test3)\n",
    "\n",
    "difference = np.linalg.norm(distances - true_distances, ord='fro')\n",
    "\n",
    "print(difference)\n",
    "assert difference < 1e-10"
   ]
  },
  {
   "cell_type": "code",
   "execution_count": 55,
   "id": "69a0a04b",
   "metadata": {
    "deletable": false,
    "id": "69a0a04b",
    "nbgrader": {
     "cell_type": "code",
     "checksum": "3b98a31f8ab9e6b8bd5a18ea02dd7165",
     "grade": false,
     "grade_id": "cell-05658431df004915",
     "locked": false,
     "schema_version": 3,
     "solution": true,
     "task": false
    }
   },
   "outputs": [],
   "source": [
    "def compute_distances_one_loop(X_train, X_test):\n",
    "    \"\"\"\n",
    "    Compute the distance between each test point in X_test and each training point\n",
    "    in X_train\n",
    "\n",
    "    Inputs:\n",
    "    - X_test: array of shape (num_test, D)\n",
    "\n",
    "    Returns:\n",
    "    - dists: array of shape (num_test, num_train), dists[i, j] is Euclidean distance between\n",
    "    the ith test point and the jth training point.\n",
    "    \"\"\"\n",
    "    num_test = X_test.shape[0]\n",
    "    num_train = X_train.shape[0]\n",
    "    distances = np.zeros((num_test, num_train))\n",
    "    \n",
    "    for i in range(num_test):\n",
    "        distances[i,:] = np.sqrt(np.sum((X_test[i] - X_train)**2, axis=1))\n",
    "    return distances"
   ]
  },
  {
   "cell_type": "code",
   "execution_count": 56,
   "id": "2540b717",
   "metadata": {
    "deletable": false,
    "editable": false,
    "id": "2540b717",
    "nbgrader": {
     "cell_type": "code",
     "checksum": "6a9d09964868df2c201e48372082c2e5",
     "grade": true,
     "grade_id": "cell-cfa64f63da5511f9",
     "locked": true,
     "points": 1,
     "schema_version": 3,
     "solution": false,
     "task": false
    }
   },
   "outputs": [
    {
     "name": "stdout",
     "output_type": "stream",
     "text": [
      "0.0\n"
     ]
    }
   ],
   "source": [
    "distances = compute_distances_one_loop(X_train3, X_test3)\n",
    "true_distances = get_distances_two_loops_with_norm(X_train3, X_test3)\n",
    "\n",
    "difference = np.linalg.norm(distances - true_distances, ord='fro')\n",
    "\n",
    "print(difference)\n",
    "assert difference < 1e-10"
   ]
  },
  {
   "cell_type": "code",
   "execution_count": 188,
   "id": "c3788be0",
   "metadata": {
    "deletable": false,
    "id": "c3788be0",
    "nbgrader": {
     "cell_type": "code",
     "checksum": "e10c370f1f9c3e653fc817c883b7de0e",
     "grade": false,
     "grade_id": "cell-3cb10928a6af9889",
     "locked": false,
     "schema_version": 3,
     "solution": true,
     "task": false
    }
   },
   "outputs": [],
   "source": [
    "def get_distances_zero_loop(X_train, X_test):\n",
    "    \"\"\"\n",
    "    Compute the distance between each test point in X_test and each training point\n",
    "    in X_train\n",
    "\n",
    "    Inputs:\n",
    "    - X_test: array of shape (num_test, D)\n",
    "\n",
    "    Returns:\n",
    "    - distances: array of shape (num_test, num_train), dists[i, j] is Euclidean distance between\n",
    "    the ith test point and the jth training point.\n",
    "    \"\"\"\n",
    "    num_test = X_test.shape[0]\n",
    "    num_train = X_train.shape[0]\n",
    "    distances = np.zeros((num_test, num_train))\n",
    "    \n",
    "    \n",
    "    distances = np.sqrt(np.sum((X_test[:, np.newaxis] - X_train)**2, axis=2))\n",
    "\n",
    "    return distances"
   ]
  },
  {
   "cell_type": "code",
   "execution_count": 189,
   "id": "81a9294b",
   "metadata": {
    "deletable": false,
    "editable": false,
    "id": "81a9294b",
    "nbgrader": {
     "cell_type": "code",
     "checksum": "08a63c2a5bf229c55db5bdc793f5c885",
     "grade": true,
     "grade_id": "cell-ff999d4dddc0760f",
     "locked": true,
     "points": 2,
     "schema_version": 3,
     "solution": false,
     "task": false
    }
   },
   "outputs": [
    {
     "name": "stdout",
     "output_type": "stream",
     "text": [
      "0.0\n"
     ]
    }
   ],
   "source": [
    "distances = get_distances_zero_loop(X_train3, X_test3)\n",
    "true_distances = get_distances_two_loops_with_norm(X_train3, X_test3)\n",
    "\n",
    "difference = np.linalg.norm(distances - true_distances, ord='fro')\n",
    "\n",
    "print(difference)\n",
    "assert difference < 1e-10"
   ]
  },
  {
   "cell_type": "markdown",
   "id": "bc9c2ac6",
   "metadata": {
    "id": "bc9c2ac6"
   },
   "source": [
    "## K-Nearest Neighbor (knn) classifier"
   ]
  },
  {
   "cell_type": "code",
   "execution_count": 190,
   "id": "2ce1e0f2",
   "metadata": {
    "deletable": false,
    "id": "2ce1e0f2",
    "nbgrader": {
     "cell_type": "code",
     "checksum": "c2213945856056edb1cbc5174c98be4e",
     "grade": false,
     "grade_id": "cell-8d852d04f1f1e1c6",
     "locked": false,
     "schema_version": 3,
     "solution": true,
     "task": false
    }
   },
   "outputs": [],
   "source": [
    "class KNearestNeighborClassifier():\n",
    "    \"\"\" kNN classifier using L2 distance \"\"\"\n",
    "\n",
    "    def __init__(self, k=1):\n",
    "        \"\"\"\n",
    "        Inputs:\n",
    "        - k: number of nearest neighbors that vote for the predicted labels.\n",
    "        \"\"\"\n",
    "        self.k = k\n",
    "\n",
    "    def fit(self, X, y):\n",
    "        \"\"\"\n",
    "        Train the classifier. Just memorize the training data.\n",
    "\n",
    "        Inputs:\n",
    "        - X: array of shape (num_train, D)\n",
    "        - y: array of shape (N,)\n",
    "        \"\"\"\n",
    "        self.X_train = X\n",
    "        self.y_train = y\n",
    "\n",
    "    def predict(self, X):\n",
    "        \"\"\"\n",
    "        Predict labels for test data using this classifier.\n",
    "\n",
    "        Inputs:\n",
    "        - X: array of shape (num_test, D)\n",
    "\n",
    "        Returns:\n",
    "        - y: array of shape (num_test,)\n",
    "        \"\"\"\n",
    "        distances = get_distances_zero_loop(self.X_train, X)\n",
    "        return self.predict_labels(distances)\n",
    "\n",
    "    def predict_labels(self, distances):\n",
    "        \"\"\"\n",
    "        Given a matrix of distances between test points and training points,\n",
    "        predict a label for each test point.\n",
    "\n",
    "        Inputs:\n",
    "        - distances: array of shape (num_test, num_train), dists[i, j] is Euclidean distance between\n",
    "        the ith test point and the jth training point.\n",
    "\n",
    "        Returns:\n",
    "        - y:  array of shape (num_test,)\n",
    "        \"\"\"\n",
    "        num_test = distances.shape[0]\n",
    "        y_pred = np.zeros(num_test)\n",
    "        for i in range(num_test):\n",
    "            # list storing the labels of the k nearest neighbors to the ith test point.\n",
    "            closest_y = []\n",
    "\n",
    "            idx = np.argsort(distances[i,:])\n",
    "            \n",
    "            closest_y = self.y_train[idx[:self.k]]\n",
    "            \n",
    "            unq, count = np.unique(closest_y, return_counts=True)\n",
    "            most = np.max(count)\n",
    "            \n",
    "            y_pred[i] = np.min(unq[count == most])\n",
    "            \n",
    "\n",
    "        return y_pred"
   ]
  },
  {
   "cell_type": "code",
   "execution_count": 191,
   "id": "c419c1ac",
   "metadata": {
    "deletable": false,
    "editable": false,
    "id": "c419c1ac",
    "nbgrader": {
     "cell_type": "code",
     "checksum": "e5ccea2db11ef9d1310203f6b2227fbc",
     "grade": true,
     "grade_id": "cell-301db44591c60d17",
     "locked": true,
     "points": 2,
     "schema_version": 3,
     "solution": false,
     "task": false
    }
   },
   "outputs": [
    {
     "name": "stdout",
     "output_type": "stream",
     "text": [
      "Accuracy scikit-learn: 0.9831649831649831\n",
      "Accuracy gradient descent model : 0.9831649831649831\n"
     ]
    }
   ],
   "source": [
    "sk_model = KNeighborsClassifier(n_neighbors=3)\n",
    "sk_model.fit(X_train3, y_train3)\n",
    "sk_pred = sk_model.predict(X_test3)\n",
    "sk_accuracy = accuracy_score(y_test3, sk_pred)\n",
    "\n",
    "model = KNearestNeighborClassifier(k=3)\n",
    "model.fit(X_train3, y_train3)\n",
    "pred = model.predict(X_test3)\n",
    "model_accuracy = accuracy_score(y_test3, pred)\n",
    "\n",
    "print(\"Accuracy scikit-learn:\", sk_accuracy)\n",
    "print(\"Accuracy gradient descent model :\", model_accuracy)\n",
    "assert sk_accuracy - model_accuracy < 1e-10"
   ]
  },
  {
   "cell_type": "markdown",
   "id": "792bbc93",
   "metadata": {
    "id": "792bbc93"
   },
   "source": [
    "## cross-validation"
   ]
  },
  {
   "cell_type": "code",
   "execution_count": 192,
   "id": "d4c44832",
   "metadata": {
    "deletable": false,
    "id": "d4c44832",
    "nbgrader": {
     "cell_type": "code",
     "checksum": "0433a47c347be926b4625f181c01d120",
     "grade": false,
     "grade_id": "cell-adaaf6c0d8cdce0a",
     "locked": false,
     "schema_version": 3,
     "solution": true,
     "task": false
    }
   },
   "outputs": [],
   "source": [
    "num_folds = 5\n",
    "k_choices = [1, 3, 5, 8, 10, 12, 15, 20, 50, 100]\n",
    "\n",
    "X_train_folds = []\n",
    "y_train_folds = []\n",
    "\n",
    "# Split up the data into folds\n",
    "# X_train_folds and y_train_folds lits of length num_folds\n",
    "\n",
    "N = X_train3.shape[0]\n",
    "\n",
    "l = N // num_folds\n",
    "\n",
    "for i in range(num_folds):\n",
    "    X_train_folds.append(X_train3[(i*l):(i*l)+l])\n",
    "    y_train_folds.append(y_train3[(i*l):(i*l)+l])\n",
    "    \n",
    "# A dictionary of length num_folds holding the accuracies for different values of k\n",
    "k_to_accuracies = {}\n",
    "\n",
    "for k in k_choices:\n",
    "    m = KNearestNeighborClassifier(k)\n",
    "    accuracies = []\n",
    "    for n in range(num_folds):\n",
    "        xtr, xvl = np.delete(X_train_folds, n, axis=0), X_train_folds[n]\n",
    "        ytr, yvl = np.delete(y_train_folds, n, axis=0), y_train_folds[n]\n",
    "\n",
    "        xtr = np.concatenate(xtr)\n",
    "        ytr = np.concatenate(ytr)\n",
    "        \n",
    "        m.fit(xtr, ytr)\n",
    "        pred = m.predict(xvl)\n",
    "        accuracies.append(accuracy_score(yvl, pred))\n",
    "\n",
    "    k_to_accuracies[k] = accuracies"
   ]
  },
  {
   "cell_type": "code",
   "execution_count": 193,
   "id": "110ef5f7",
   "metadata": {
    "deletable": false,
    "editable": false,
    "id": "110ef5f7",
    "nbgrader": {
     "cell_type": "code",
     "checksum": "1f539a48494772e41230a2b590897508",
     "grade": true,
     "grade_id": "cell-4d0c3c0a08ed3f82",
     "locked": true,
     "points": 2,
     "schema_version": 3,
     "solution": false,
     "task": false
    }
   },
   "outputs": [
    {
     "name": "stdout",
     "output_type": "stream",
     "text": [
      "k = 1, accuracy = 0.991667\n",
      "k = 1, accuracy = 0.983333\n",
      "k = 1, accuracy = 0.983333\n",
      "k = 1, accuracy = 0.970833\n",
      "k = 1, accuracy = 0.995833\n",
      "k = 3, accuracy = 0.987500\n",
      "k = 3, accuracy = 0.983333\n",
      "k = 3, accuracy = 0.991667\n",
      "k = 3, accuracy = 0.970833\n",
      "k = 3, accuracy = 0.983333\n",
      "k = 5, accuracy = 0.991667\n",
      "k = 5, accuracy = 0.983333\n",
      "k = 5, accuracy = 0.991667\n",
      "k = 5, accuracy = 0.979167\n",
      "k = 5, accuracy = 0.983333\n",
      "k = 8, accuracy = 0.979167\n",
      "k = 8, accuracy = 0.970833\n",
      "k = 8, accuracy = 0.987500\n",
      "k = 8, accuracy = 0.966667\n",
      "k = 8, accuracy = 0.983333\n",
      "k = 10, accuracy = 0.983333\n",
      "k = 10, accuracy = 0.970833\n",
      "k = 10, accuracy = 0.979167\n",
      "k = 10, accuracy = 0.966667\n",
      "k = 10, accuracy = 0.975000\n",
      "k = 12, accuracy = 0.983333\n",
      "k = 12, accuracy = 0.975000\n",
      "k = 12, accuracy = 0.979167\n",
      "k = 12, accuracy = 0.966667\n",
      "k = 12, accuracy = 0.979167\n",
      "k = 15, accuracy = 0.983333\n",
      "k = 15, accuracy = 0.962500\n",
      "k = 15, accuracy = 0.983333\n",
      "k = 15, accuracy = 0.966667\n",
      "k = 15, accuracy = 0.962500\n",
      "k = 20, accuracy = 0.966667\n",
      "k = 20, accuracy = 0.958333\n",
      "k = 20, accuracy = 0.975000\n",
      "k = 20, accuracy = 0.958333\n",
      "k = 20, accuracy = 0.958333\n",
      "k = 50, accuracy = 0.945833\n",
      "k = 50, accuracy = 0.925000\n",
      "k = 50, accuracy = 0.962500\n",
      "k = 50, accuracy = 0.916667\n",
      "k = 50, accuracy = 0.929167\n",
      "k = 100, accuracy = 0.904167\n",
      "k = 100, accuracy = 0.895833\n",
      "k = 100, accuracy = 0.941667\n",
      "k = 100, accuracy = 0.895833\n",
      "k = 100, accuracy = 0.883333\n"
     ]
    }
   ],
   "source": [
    "for k in sorted(k_to_accuracies):\n",
    "    for accuracy in k_to_accuracies[k]:\n",
    "        print('k = %d, accuracy = %f' % (k, accuracy))"
   ]
  }
 ],
 "metadata": {
  "colab": {
   "provenance": []
  },
  "kernelspec": {
   "display_name": "Python 3 (ipykernel)",
   "language": "python",
   "name": "python3"
  },
  "language_info": {
   "codemirror_mode": {
    "name": "ipython",
    "version": 3
   },
   "file_extension": ".py",
   "mimetype": "text/x-python",
   "name": "python",
   "nbconvert_exporter": "python",
   "pygments_lexer": "ipython3",
   "version": "3.11.7"
  }
 },
 "nbformat": 4,
 "nbformat_minor": 5
}
