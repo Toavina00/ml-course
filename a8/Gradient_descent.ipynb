{
 "cells": [
  {
   "cell_type": "markdown",
   "id": "3217513e",
   "metadata": {},
   "source": [
    "# MISA\n",
    "Alohan'ny mamerina dia avereno atao Run ny notebook iray manontolo. Ny fanaovana azy dia redémarrena mihitsy ny kernel aloha (jereo menubar, safidio **Kernel$\\rightarrow$Restart Kernel and Run All Cells**).\n",
    "\n",
    "Izay misy hoe `YOUR CODE HERE` na `YOUR ANSWER HERE` ihany no fenoina. Afaka manampy cells vaovao raha ilaina. Aza adino ny mameno references eo ambany raha ilaina."
   ]
  },
  {
   "cell_type": "markdown",
   "id": "5e4c1437",
   "metadata": {},
   "source": [
    "## References\n",
    "Eto ilay references rehetra no apetraka"
   ]
  },
  {
   "cell_type": "markdown",
   "id": "8575de52",
   "metadata": {},
   "source": [
    "---"
   ]
  },
  {
   "cell_type": "code",
   "execution_count": 1,
   "id": "ab42c33c",
   "metadata": {
    "deletable": false,
    "editable": false,
    "nbgrader": {
     "cell_type": "code",
     "checksum": "d3d3c2e2a84ff92fa02220ae689dc414",
     "grade": false,
     "grade_id": "cell-38b4529793385ad1",
     "locked": true,
     "schema_version": 3,
     "solution": false,
     "task": false
    }
   },
   "outputs": [],
   "source": [
    "from random import randrange\n",
    "import numpy as np\n",
    "from sklearn.metrics import mean_squared_error, log_loss\n",
    "from sklearn.datasets import load_breast_cancer, load_diabetes\n",
    "\n",
    "\n",
    "def grad_check_sparse(f, x, analytic_grad, num_checks=10, h=1e-5, error=1e-9):\n",
    "    \"\"\"\n",
    "    sample a few random elements and only return numerical\n",
    "    in this dimensions\n",
    "    \"\"\"\n",
    "\n",
    "    for i in range(num_checks):\n",
    "        ix = tuple([randrange(m) for m in x.shape])\n",
    "\n",
    "        oldval = x[ix]\n",
    "        x[ix] = oldval + h  # increment by h\n",
    "        fxph = f(x)  # evaluate f(x + h)\n",
    "        x[ix] = oldval - h  # increment by h\n",
    "        fxmh = f(x)  # evaluate f(x - h)\n",
    "        x[ix] = oldval  # reset\n",
    "\n",
    "        grad_numerical = (fxph - fxmh) / (2 * h)\n",
    "        grad_analytic = analytic_grad[ix]\n",
    "        rel_error = abs(grad_numerical - grad_analytic) / (\n",
    "            abs(grad_numerical) + abs(grad_analytic)\n",
    "        )\n",
    "        print(\n",
    "            \"numerical: %f analytic: %f, relative error: %e\"\n",
    "            % (grad_numerical, grad_analytic, rel_error)\n",
    "        )\n",
    "        assert rel_error < error\n",
    "\n",
    "def rel_error(x, y):\n",
    "    \"\"\" returns relative error \"\"\"\n",
    "    return np.max(np.abs(x - y) / (np.maximum(1e-8, np.abs(x) + np.abs(y))))"
   ]
  },
  {
   "cell_type": "markdown",
   "id": "cfec4298",
   "metadata": {},
   "source": [
    "# Linear regression"
   ]
  },
  {
   "cell_type": "code",
   "execution_count": 2,
   "id": "731a18bc",
   "metadata": {
    "deletable": false,
    "editable": false,
    "nbgrader": {
     "cell_type": "code",
     "checksum": "1159b5dc8c59570993ac39ae349c5037",
     "grade": false,
     "grade_id": "cell-3fb8ebd5eb97e246",
     "locked": true,
     "schema_version": 3,
     "solution": false,
     "task": false
    }
   },
   "outputs": [],
   "source": [
    "data = load_diabetes()\n",
    "X_train1, y_train1 = data.data, data.target\n",
    "w1 = np.random.randn(X_train1.shape[1]) * 0.0001\n",
    "b1 = np.random.randn(1) * 0.0001"
   ]
  },
  {
   "cell_type": "code",
   "execution_count": 3,
   "id": "f07dea71",
   "metadata": {
    "deletable": false,
    "nbgrader": {
     "cell_type": "code",
     "checksum": "baf9b75ec047c1cdb887ecb2bc2043a1",
     "grade": false,
     "grade_id": "cell-5ffdf99ad7cdfd69",
     "locked": false,
     "schema_version": 3,
     "solution": true,
     "task": false
    }
   },
   "outputs": [],
   "source": [
    "def mse_loss_naive(w, b, X, y, alpha=0):\n",
    "    \"\"\"\n",
    "    MSE loss function WITH FOR LOOPs\n",
    "    \n",
    "    Returns a tuple of:\n",
    "    - loss \n",
    "    - gradient with respect to weights w\n",
    "    - gradient with respect to bias b\n",
    "    \"\"\"\n",
    "    loss = 0.0\n",
    "    dw = np.zeros_like(w)\n",
    "    db = 0.0\n",
    "    \n",
    "    N, D = X.shape\n",
    "    \n",
    "    for i in range(N):\n",
    "        diff = w @ X[i] + b - y[i]\n",
    "        loss += diff**2\n",
    "        db += diff\n",
    "        for k in range(D):\n",
    "            dw[k] += X[i][k] * diff\n",
    "    \n",
    "    loss *= 1/N\n",
    "    db *= 2/N\n",
    "    dw *= 2/N\n",
    "    \n",
    "    loss += alpha * (w @ w) + alpha * b * b\n",
    "    dw += 2 * alpha * w\n",
    "    db += 2 * alpha * b\n",
    "    \n",
    "    return loss, dw, np.array(db).reshape(1,)"
   ]
  },
  {
   "cell_type": "markdown",
   "id": "bddacc5d",
   "metadata": {},
   "source": [
    "## Naive Linear regression loss"
   ]
  },
  {
   "cell_type": "code",
   "execution_count": 4,
   "id": "86cdcedc",
   "metadata": {
    "deletable": false,
    "editable": false,
    "nbgrader": {
     "cell_type": "code",
     "checksum": "c67f4964c919b07a15b9ca06dc2e8b1f",
     "grade": true,
     "grade_id": "cell-079e42b153b67a60",
     "locked": true,
     "points": 1,
     "schema_version": 3,
     "solution": false,
     "task": false
    }
   },
   "outputs": [
    {
     "name": "stdout",
     "output_type": "stream",
     "text": [
      "Loss error :  0.0\n",
      "Gradient check w\n",
      "numerical: 2.892060 analytic: 2.892060, relative error: 6.119902e-08\n",
      "numerical: -3.153316 analytic: -3.153317, relative error: 1.823942e-07\n",
      "numerical: -1.275044 analytic: -1.275044, relative error: 1.564797e-07\n",
      "numerical: -1.376394 analytic: -1.376394, relative error: 3.654873e-08\n",
      "numerical: -2.801913 analytic: -2.801913, relative error: 1.033762e-08\n",
      "numerical: -0.315455 analytic: -0.315454, relative error: 2.748622e-06\n",
      "numerical: -3.153316 analytic: -3.153317, relative error: 1.823942e-07\n",
      "numerical: -4.145419 analytic: -4.145418, relative error: 1.176107e-07\n",
      "numerical: -4.296084 analytic: -4.296087, relative error: 3.573580e-07\n",
      "numerical: -3.153316 analytic: -3.153317, relative error: 1.823942e-07\n",
      "numerical: 2.892060 analytic: 2.892060, relative error: 6.119902e-08\n",
      "numerical: -3.234107 analytic: -3.234110, relative error: 3.335644e-07\n",
      "numerical: -0.315455 analytic: -0.315454, relative error: 2.748622e-06\n",
      "numerical: 2.892060 analytic: 2.892060, relative error: 6.119902e-08\n",
      "numerical: -0.315455 analytic: -0.315454, relative error: 2.748622e-06\n",
      "Gradient check bias\n",
      "numerical: -304.267230 analytic: -304.267229, relative error: 1.694749e-09\n",
      "numerical: -304.267230 analytic: -304.267229, relative error: 1.694749e-09\n",
      "numerical: -304.267230 analytic: -304.267229, relative error: 1.694749e-09\n",
      "numerical: -304.267230 analytic: -304.267229, relative error: 1.694749e-09\n",
      "numerical: -304.267230 analytic: -304.267229, relative error: 1.694749e-09\n",
      "numerical: -304.267230 analytic: -304.267229, relative error: 1.694749e-09\n",
      "numerical: -304.267230 analytic: -304.267229, relative error: 1.694749e-09\n",
      "numerical: -304.267230 analytic: -304.267229, relative error: 1.694749e-09\n",
      "numerical: -304.267230 analytic: -304.267229, relative error: 1.694749e-09\n",
      "numerical: -304.267230 analytic: -304.267229, relative error: 1.694749e-09\n",
      "numerical: -304.267230 analytic: -304.267229, relative error: 1.694749e-09\n",
      "numerical: -304.267230 analytic: -304.267229, relative error: 1.694749e-09\n",
      "numerical: -304.267230 analytic: -304.267229, relative error: 1.694749e-09\n",
      "numerical: -304.267230 analytic: -304.267229, relative error: 1.694749e-09\n",
      "numerical: -304.267230 analytic: -304.267229, relative error: 1.694749e-09\n"
     ]
    }
   ],
   "source": [
    "loss, dw1, db1 = mse_loss_naive(w1, b1, X_train1, y_train1, alpha=0)\n",
    "\n",
    "sk_loss = mean_squared_error(X_train1 @ w1 + b1, y_train1)\n",
    "print(\"Loss error : \",rel_error(loss, sk_loss))\n",
    "assert rel_error(loss, sk_loss) < 1e-9\n",
    "\n",
    "print(\"Gradient check w\")\n",
    "# Check with numerical gradient w\n",
    "f = lambda w1: mse_loss_naive(w1, b1, X_train1, y_train1, alpha=0)[0]\n",
    "grad_numerical = grad_check_sparse(f, w1, dw1, 15,  error=1e-5)\n",
    "\n",
    "print(\"Gradient check bias\")\n",
    "# Check with numerical gradient b\n",
    "f2 = lambda b1: mse_loss_naive(w1, b1, X_train1, y_train1, alpha=0)[0]\n",
    "grad_numerical = grad_check_sparse(f2, b1, db1, 15,  error=1e-5)"
   ]
  },
  {
   "cell_type": "markdown",
   "id": "db438d3f",
   "metadata": {},
   "source": [
    "## Naive Ridge regression loss"
   ]
  },
  {
   "cell_type": "code",
   "execution_count": 5,
   "id": "36465817",
   "metadata": {
    "deletable": false,
    "editable": false,
    "nbgrader": {
     "cell_type": "code",
     "checksum": "9ca5790893e5950341f7370bb3be167c",
     "grade": true,
     "grade_id": "cell-14a64cb1cfe70b98",
     "locked": true,
     "points": 1,
     "schema_version": 3,
     "solution": false,
     "task": false
    }
   },
   "outputs": [
    {
     "name": "stdout",
     "output_type": "stream",
     "text": [
      "Gradient check w\n",
      "numerical: -1.376652 analytic: -1.376652, relative error: 4.014714e-09\n",
      "numerical: 2.892002 analytic: 2.892002, relative error: 6.733758e-08\n",
      "numerical: -4.145517 analytic: -4.145516, relative error: 1.196969e-07\n",
      "numerical: -2.801744 analytic: -2.801744, relative error: 5.079956e-09\n",
      "numerical: -4.295962 analytic: -4.295965, relative error: 3.646344e-07\n",
      "numerical: -0.315212 analytic: -0.315211, relative error: 2.576344e-06\n",
      "numerical: 2.892002 analytic: 2.892002, relative error: 6.733758e-08\n",
      "numerical: -3.234052 analytic: -3.234054, relative error: 3.487931e-07\n",
      "numerical: -4.295962 analytic: -4.295965, relative error: 3.646344e-07\n",
      "numerical: -0.315212 analytic: -0.315211, relative error: 2.576344e-06\n",
      "numerical: -2.801744 analytic: -2.801744, relative error: 5.079956e-09\n",
      "numerical: -4.295962 analytic: -4.295965, relative error: 3.646344e-07\n",
      "numerical: -4.295962 analytic: -4.295965, relative error: 3.646344e-07\n",
      "numerical: -4.145517 analytic: -4.145516, relative error: 1.196969e-07\n",
      "numerical: -1.553354 analytic: -1.553354, relative error: 1.979583e-07\n",
      "Gradient check bias\n",
      "numerical: -304.267491 analytic: -304.267490, relative error: 1.629437e-09\n",
      "numerical: -304.267491 analytic: -304.267490, relative error: 1.629437e-09\n",
      "numerical: -304.267491 analytic: -304.267490, relative error: 1.629437e-09\n",
      "numerical: -304.267491 analytic: -304.267490, relative error: 1.629437e-09\n",
      "numerical: -304.267491 analytic: -304.267490, relative error: 1.629437e-09\n",
      "numerical: -304.267491 analytic: -304.267490, relative error: 1.629437e-09\n",
      "numerical: -304.267491 analytic: -304.267490, relative error: 1.629437e-09\n",
      "numerical: -304.267491 analytic: -304.267490, relative error: 1.629437e-09\n",
      "numerical: -304.267491 analytic: -304.267490, relative error: 1.629437e-09\n",
      "numerical: -304.267491 analytic: -304.267490, relative error: 1.629437e-09\n",
      "numerical: -304.267491 analytic: -304.267490, relative error: 1.629437e-09\n",
      "numerical: -304.267491 analytic: -304.267490, relative error: 1.629437e-09\n",
      "numerical: -304.267491 analytic: -304.267490, relative error: 1.629437e-09\n",
      "numerical: -304.267491 analytic: -304.267490, relative error: 1.629437e-09\n",
      "numerical: -304.267491 analytic: -304.267490, relative error: 1.629437e-09\n"
     ]
    }
   ],
   "source": [
    "loss, dw1, db1 = mse_loss_naive(w1, b1, X_train1, y_train1, alpha=1)\n",
    "\n",
    "print(\"Gradient check w\")\n",
    "# Check with numerical gradient w\n",
    "f = lambda w1: mse_loss_naive(w1, b1, X_train1, y_train1, alpha=1)[0]\n",
    "grad_numerical = grad_check_sparse(f, w1, dw1, 15,  error=1e-5)\n",
    "\n",
    "print(\"Gradient check bias\")\n",
    "# Check with numerical gradient b\n",
    "f2 = lambda b1: mse_loss_naive(w1, b1, X_train1, y_train1, alpha=1)[0]\n",
    "grad_numerical = grad_check_sparse(f2, b1, db1, 15,  error=1e-5)"
   ]
  },
  {
   "cell_type": "code",
   "execution_count": 6,
   "id": "5c6b011f",
   "metadata": {
    "deletable": false,
    "nbgrader": {
     "cell_type": "code",
     "checksum": "21b3a09270262dbad9cb1c15c0fc69f8",
     "grade": false,
     "grade_id": "cell-1528a28f467d90c7",
     "locked": false,
     "schema_version": 3,
     "solution": true,
     "task": false
    }
   },
   "outputs": [],
   "source": [
    "def mse_loss_vectorized(w, b, X, y, alpha=0):\n",
    "    \"\"\"\n",
    "    MSE loss function WITHOUT FOR LOOPs\n",
    "    \n",
    "    Returns a tuple of:\n",
    "    - loss \n",
    "    - gradient with respect to weights w\n",
    "    - gradient with respect to bias b\n",
    "    \"\"\"\n",
    "    \n",
    "    diff = X @ w + b - y\n",
    "    loss = diff @ diff\n",
    "    db = diff.sum()\n",
    "    dw = X.T @ diff\n",
    "    \n",
    "    N, _ = X.shape\n",
    "    \n",
    "    loss *= 1/N\n",
    "    db *= 2/N\n",
    "    dw *= 2/N\n",
    "    \n",
    "    loss += alpha * (w @ w) + alpha * b * b\n",
    "    dw += 2 * alpha * w\n",
    "    db += 2 * alpha * b\n",
    "    \n",
    "    return loss, dw, np.array(db).reshape(1,)"
   ]
  },
  {
   "cell_type": "markdown",
   "id": "1d9bff00",
   "metadata": {},
   "source": [
    "## Vectorised Linear regression loss"
   ]
  },
  {
   "cell_type": "code",
   "execution_count": 7,
   "id": "05dd3b4d",
   "metadata": {
    "deletable": false,
    "editable": false,
    "nbgrader": {
     "cell_type": "code",
     "checksum": "76d06d37e089b9fdf2c7ca7fa3241a61",
     "grade": true,
     "grade_id": "cell-41637ca21c8f938d",
     "locked": true,
     "points": 1,
     "schema_version": 3,
     "solution": false,
     "task": false
    }
   },
   "outputs": [
    {
     "name": "stdout",
     "output_type": "stream",
     "text": [
      "Loss error :  6.256300376732055e-17\n",
      "Gradient check w\n",
      "numerical: -4.145418 analytic: -4.145418, relative error: 7.911924e-09\n",
      "numerical: -3.234110 analytic: -3.234110, relative error: 3.899087e-09\n",
      "numerical: -2.801913 analytic: -2.801913, relative error: 4.279740e-08\n",
      "numerical: -1.275044 analytic: -1.275044, relative error: 1.381878e-08\n",
      "numerical: -2.801913 analytic: -2.801913, relative error: 4.279740e-08\n",
      "numerical: 2.892060 analytic: 2.892060, relative error: 3.314495e-08\n",
      "numerical: -1.376395 analytic: -1.376394, relative error: 9.560738e-08\n",
      "numerical: -1.376395 analytic: -1.376394, relative error: 9.560738e-08\n",
      "numerical: -1.275044 analytic: -1.275044, relative error: 1.381878e-08\n",
      "numerical: -0.315454 analytic: -0.315454, relative error: 1.538098e-07\n",
      "numerical: -3.153317 analytic: -3.153317, relative error: 1.950318e-08\n",
      "numerical: -1.275044 analytic: -1.275044, relative error: 1.381878e-08\n",
      "numerical: -2.801913 analytic: -2.801913, relative error: 4.279740e-08\n",
      "numerical: -1.275044 analytic: -1.275044, relative error: 1.381878e-08\n",
      "numerical: -1.275044 analytic: -1.275044, relative error: 1.381878e-08\n",
      "Gradient check bias\n",
      "numerical: -304.267229 analytic: -304.267229, relative error: 9.872923e-11\n",
      "numerical: -304.267229 analytic: -304.267229, relative error: 9.872923e-11\n",
      "numerical: -304.267229 analytic: -304.267229, relative error: 9.872923e-11\n",
      "numerical: -304.267229 analytic: -304.267229, relative error: 9.872923e-11\n",
      "numerical: -304.267229 analytic: -304.267229, relative error: 9.872923e-11\n",
      "numerical: -304.267229 analytic: -304.267229, relative error: 9.872923e-11\n",
      "numerical: -304.267229 analytic: -304.267229, relative error: 9.872923e-11\n",
      "numerical: -304.267229 analytic: -304.267229, relative error: 9.872923e-11\n",
      "numerical: -304.267229 analytic: -304.267229, relative error: 9.872923e-11\n",
      "numerical: -304.267229 analytic: -304.267229, relative error: 9.872923e-11\n",
      "numerical: -304.267229 analytic: -304.267229, relative error: 9.872923e-11\n",
      "numerical: -304.267229 analytic: -304.267229, relative error: 9.872923e-11\n",
      "numerical: -304.267229 analytic: -304.267229, relative error: 9.872923e-11\n",
      "numerical: -304.267229 analytic: -304.267229, relative error: 9.872923e-11\n",
      "numerical: -304.267229 analytic: -304.267229, relative error: 9.872923e-11\n"
     ]
    }
   ],
   "source": [
    "loss, dw1, db1 = mse_loss_vectorized(w1, b1, X_train1, y_train1, alpha=0)\n",
    "\n",
    "sk_loss = mean_squared_error(X_train1 @ w1 + b1, y_train1)\n",
    "print(\"Loss error : \",rel_error(loss, sk_loss))\n",
    "assert rel_error(loss, sk_loss) < 1e-9\n",
    "\n",
    "print(\"Gradient check w\")\n",
    "# Check with numerical gradient w\n",
    "f = lambda w1: mse_loss_vectorized(w1, b1, X_train1, y_train1, alpha=0)[0]\n",
    "grad_numerical = grad_check_sparse(f, w1, dw1, 15,  error=1e-5)\n",
    "\n",
    "print(\"Gradient check bias\")\n",
    "# Check with numerical gradient b\n",
    "f2 = lambda b1: mse_loss_vectorized(w1, b1, X_train1, y_train1, alpha=0)[0]\n",
    "grad_numerical = grad_check_sparse(f2, b1, db1, 15,  error=1e-5)"
   ]
  },
  {
   "cell_type": "markdown",
   "id": "27c8575f",
   "metadata": {},
   "source": [
    "## Vectorized ridge regression loss"
   ]
  },
  {
   "cell_type": "code",
   "execution_count": 8,
   "id": "6aa107f7",
   "metadata": {
    "deletable": false,
    "editable": false,
    "nbgrader": {
     "cell_type": "code",
     "checksum": "89b351bee282f05c3f74c9541b3a825e",
     "grade": true,
     "grade_id": "cell-bb0ff99c19a85e0f",
     "locked": true,
     "points": 1,
     "schema_version": 3,
     "solution": false,
     "task": false
    }
   },
   "outputs": [
    {
     "name": "stdout",
     "output_type": "stream",
     "text": [
      "Gradient check w\n",
      "numerical: -1.274979 analytic: -1.274979, relative error: 2.648522e-08\n",
      "numerical: -1.376652 analytic: -1.376652, relative error: 1.281167e-07\n",
      "numerical: -1.274979 analytic: -1.274979, relative error: 2.648522e-08\n",
      "numerical: -4.295965 analytic: -4.295965, relative error: 2.589974e-08\n",
      "numerical: -4.145516 analytic: -4.145516, relative error: 1.000067e-08\n",
      "numerical: -1.274979 analytic: -1.274979, relative error: 2.648522e-08\n",
      "numerical: 2.892002 analytic: 2.892002, relative error: 2.700828e-08\n",
      "numerical: -0.315211 analytic: -0.315211, relative error: 2.046841e-08\n",
      "numerical: -4.145516 analytic: -4.145516, relative error: 1.000067e-08\n",
      "numerical: -1.376652 analytic: -1.376652, relative error: 1.281167e-07\n",
      "numerical: -0.315211 analytic: -0.315211, relative error: 2.046841e-08\n",
      "numerical: -1.376652 analytic: -1.376652, relative error: 1.281167e-07\n",
      "numerical: 2.892002 analytic: 2.892002, relative error: 2.700828e-08\n",
      "numerical: -4.295965 analytic: -4.295965, relative error: 2.589974e-08\n",
      "numerical: -3.234054 analytic: -3.234054, relative error: 1.132380e-08\n",
      "Gradient check bias\n",
      "numerical: -304.267490 analytic: -304.267490, relative error: 1.640397e-10\n",
      "numerical: -304.267490 analytic: -304.267490, relative error: 1.640397e-10\n",
      "numerical: -304.267490 analytic: -304.267490, relative error: 1.640397e-10\n",
      "numerical: -304.267490 analytic: -304.267490, relative error: 1.640397e-10\n",
      "numerical: -304.267490 analytic: -304.267490, relative error: 1.640397e-10\n",
      "numerical: -304.267490 analytic: -304.267490, relative error: 1.640397e-10\n",
      "numerical: -304.267490 analytic: -304.267490, relative error: 1.640397e-10\n",
      "numerical: -304.267490 analytic: -304.267490, relative error: 1.640397e-10\n",
      "numerical: -304.267490 analytic: -304.267490, relative error: 1.640397e-10\n",
      "numerical: -304.267490 analytic: -304.267490, relative error: 1.640397e-10\n",
      "numerical: -304.267490 analytic: -304.267490, relative error: 1.640397e-10\n",
      "numerical: -304.267490 analytic: -304.267490, relative error: 1.640397e-10\n",
      "numerical: -304.267490 analytic: -304.267490, relative error: 1.640397e-10\n",
      "numerical: -304.267490 analytic: -304.267490, relative error: 1.640397e-10\n",
      "numerical: -304.267490 analytic: -304.267490, relative error: 1.640397e-10\n"
     ]
    }
   ],
   "source": [
    "loss, dw1, db1 = mse_loss_vectorized(w1, b1, X_train1, y_train1, alpha=1)\n",
    "\n",
    "print(\"Gradient check w\")\n",
    "# Check with numerical gradient w\n",
    "f = lambda w1: mse_loss_vectorized(w1, b1, X_train1, y_train1, alpha=1)[0]\n",
    "grad_numerical = grad_check_sparse(f, w1, dw1, 15,  error=1e-5)\n",
    "\n",
    "print(\"Gradient check bias\")\n",
    "# Check with numerical gradient b\n",
    "f2 = lambda b1: mse_loss_vectorized(w1, b1, X_train1, y_train1, alpha=1)[0]\n",
    "grad_numerical = grad_check_sparse(f2, b1, db1, 15,  error=1e-5)"
   ]
  },
  {
   "cell_type": "markdown",
   "id": "c3c7ae33",
   "metadata": {},
   "source": [
    "# Logistic regression"
   ]
  },
  {
   "cell_type": "code",
   "execution_count": 9,
   "id": "bb6d1eb4",
   "metadata": {
    "deletable": false,
    "editable": false,
    "nbgrader": {
     "cell_type": "code",
     "checksum": "fd86b658f3ec113c00c2ee2e195f550f",
     "grade": false,
     "grade_id": "cell-434ec399cf8aeea7",
     "locked": true,
     "schema_version": 3,
     "solution": false,
     "task": false
    }
   },
   "outputs": [],
   "source": [
    "def sigmoid(z):\n",
    "    return 1 / (1 + np.exp(-z))\n",
    "\n",
    "data = load_breast_cancer()\n",
    "X_train2, y_train2 = data.data, data.target\n",
    "w2 = np.random.randn(X_train2.shape[1]) * 0.0001\n",
    "b2 = np.random.randn(1) * 0.0001"
   ]
  },
  {
   "cell_type": "markdown",
   "id": "d97e5d16",
   "metadata": {},
   "source": [
    "# Naive"
   ]
  },
  {
   "cell_type": "code",
   "execution_count": 10,
   "id": "4690c331",
   "metadata": {
    "deletable": false,
    "nbgrader": {
     "cell_type": "code",
     "checksum": "a4357b941a04e6dc51a2683b7f4d91ed",
     "grade": false,
     "grade_id": "cell-6ec156568b0c6e29",
     "locked": false,
     "schema_version": 3,
     "solution": true,
     "task": false
    }
   },
   "outputs": [],
   "source": [
    "def log_loss_naive(w, b, X, y, alpha=0):\n",
    "    \"\"\"\n",
    "    log loss function WITH FOR LOOPs\n",
    "    \n",
    "    Returns a tuple of:\n",
    "    - loss \n",
    "    - gradient with respect to weights w\n",
    "    \"\"\"\n",
    "    loss = 0.0\n",
    "    dw = np.zeros_like(w)\n",
    "    db = 0.0\n",
    "    \n",
    "    N, D = X.shape\n",
    "    \n",
    "    for i in range(N):\n",
    "        z = w @ X[i] + b\n",
    "        \n",
    "        p = sigmoid(z)\n",
    "        loss -= y[i] * np.log(p) + (1 - y[i]) * np.log(1 - p) \n",
    "        \n",
    "        c = p - y[i]\n",
    "        db += c\n",
    "        for k in range(D):\n",
    "            dw[k] += c * X[i][k]\n",
    "            \n",
    "    loss *= 1/N\n",
    "    dw *= 1/N\n",
    "    db *= 1/N\n",
    "        \n",
    "    loss += alpha * (w @ w) + alpha * b * b\n",
    "    dw += 2 * alpha * w\n",
    "    db += 2 * alpha * b\n",
    "    \n",
    "    return loss, dw, np.array(db).reshape(1,)"
   ]
  },
  {
   "cell_type": "code",
   "execution_count": 11,
   "id": "f54b1bca",
   "metadata": {
    "deletable": false,
    "editable": false,
    "nbgrader": {
     "cell_type": "code",
     "checksum": "70d2045a5dac4c5a041dc8595cd5a39f",
     "grade": true,
     "grade_id": "cell-d3c078eb2449ee61",
     "locked": true,
     "points": 1,
     "schema_version": 3,
     "solution": false,
     "task": false
    }
   },
   "outputs": [
    {
     "name": "stdout",
     "output_type": "stream",
     "text": [
      "Loss error :  2.3130982781671467e-16\n",
      "Gradient check w\n",
      "numerical: -0.001494 analytic: -0.001494, relative error: 1.514755e-08\n",
      "numerical: 0.389991 analytic: 0.389991, relative error: 6.354444e-11\n",
      "numerical: -0.004245 analytic: -0.004245, relative error: 2.486878e-09\n",
      "numerical: 0.018737 analytic: 0.018737, relative error: 1.286459e-09\n",
      "numerical: -0.445248 analytic: -0.445248, relative error: 4.835900e-09\n",
      "numerical: 0.018737 analytic: 0.018737, relative error: 1.286459e-09\n",
      "numerical: 6.241341 analytic: 6.241343, relative error: 9.427985e-08\n",
      "numerical: 0.008765 analytic: 0.008765, relative error: 1.782394e-09\n",
      "numerical: -0.000609 analytic: -0.000609, relative error: 5.445799e-08\n",
      "numerical: -0.003045 analytic: -0.003045, relative error: 1.043201e-09\n",
      "numerical: -0.000609 analytic: -0.000609, relative error: 5.445799e-08\n",
      "numerical: 0.018737 analytic: 0.018737, relative error: 1.286459e-09\n",
      "numerical: 158.236769 analytic: 158.238570, relative error: 5.691834e-06\n",
      "numerical: 0.361658 analytic: 0.361658, relative error: 3.055824e-09\n",
      "numerical: 0.022359 analytic: 0.022359, relative error: 5.756410e-10\n",
      "Gradient check bias\n",
      "numerical: -0.070255 analytic: -0.070255, relative error: 9.133988e-11\n",
      "numerical: -0.070255 analytic: -0.070255, relative error: 9.133988e-11\n",
      "numerical: -0.070255 analytic: -0.070255, relative error: 9.133988e-11\n",
      "numerical: -0.070255 analytic: -0.070255, relative error: 9.133988e-11\n",
      "numerical: -0.070255 analytic: -0.070255, relative error: 9.133988e-11\n",
      "numerical: -0.070255 analytic: -0.070255, relative error: 9.133988e-11\n",
      "numerical: -0.070255 analytic: -0.070255, relative error: 9.133988e-11\n",
      "numerical: -0.070255 analytic: -0.070255, relative error: 9.133988e-11\n",
      "numerical: -0.070255 analytic: -0.070255, relative error: 9.133988e-11\n",
      "numerical: -0.070255 analytic: -0.070255, relative error: 9.133988e-11\n",
      "numerical: -0.070255 analytic: -0.070255, relative error: 9.133988e-11\n",
      "numerical: -0.070255 analytic: -0.070255, relative error: 9.133988e-11\n",
      "numerical: -0.070255 analytic: -0.070255, relative error: 9.133988e-11\n",
      "numerical: -0.070255 analytic: -0.070255, relative error: 9.133988e-11\n",
      "numerical: -0.070255 analytic: -0.070255, relative error: 9.133988e-11\n"
     ]
    }
   ],
   "source": [
    "y_pred_0 = sigmoid(X_train2 @ w2 + b2)\n",
    "y_pred = np.vstack([1-y_pred_0, y_pred_0]).T\n",
    "sk_loss = log_loss(y_train2, y_pred)\n",
    "\n",
    "loss, dw2, db2 = log_loss_naive(w2, b2, X_train2, y_train2, alpha=0)\n",
    "print(\"Loss error : \",rel_error(loss, sk_loss))\n",
    "assert rel_error(loss, sk_loss) < 1e-9\n",
    "\n",
    "print(\"Gradient check w\")\n",
    "# Check with numerical gradient w\n",
    "f = lambda w2: log_loss_naive(w2, b2, X_train2, y_train2, alpha=0)[0]\n",
    "grad_numerical = grad_check_sparse(f, w2, dw2, 15, error=1e-4)\n",
    "\n",
    "print(\"Gradient check bias\")\n",
    "# Check with numerical gradient b\n",
    "f2 = lambda b2: log_loss_naive(w2, b2, X_train2, y_train2, alpha=0)[0]\n",
    "grad_numerical = grad_check_sparse(f2, b2, db2, 15,  error=1e-5)"
   ]
  },
  {
   "cell_type": "markdown",
   "id": "5e1e8516",
   "metadata": {},
   "source": [
    "# Naive with regulariztion"
   ]
  },
  {
   "cell_type": "code",
   "execution_count": 12,
   "id": "79f6f9a6",
   "metadata": {
    "deletable": false,
    "editable": false,
    "nbgrader": {
     "cell_type": "code",
     "checksum": "cb3c9584e2ca3502e5068d5c1ee2df96",
     "grade": true,
     "grade_id": "cell-b91805308ad91ec5",
     "locked": true,
     "points": 1,
     "schema_version": 3,
     "solution": false,
     "task": false
    }
   },
   "outputs": [
    {
     "name": "stdout",
     "output_type": "stream",
     "text": [
      "Gradient check w\n",
      "numerical: -0.382712 analytic: -0.382712, relative error: 1.350333e-08\n",
      "numerical: 0.361933 analytic: 0.361933, relative error: 3.054748e-09\n",
      "numerical: -0.000271 analytic: -0.000271, relative error: 4.098044e-08\n",
      "numerical: 0.000315 analytic: 0.000315, relative error: 4.081562e-08\n",
      "numerical: -0.004392 analytic: -0.004392, relative error: 5.665868e-10\n",
      "numerical: -0.088934 analytic: -0.088934, relative error: 1.128813e-10\n",
      "numerical: 0.012018 analytic: 0.012018, relative error: 1.580740e-09\n",
      "numerical: -0.007629 analytic: -0.007629, relative error: 2.512169e-09\n",
      "numerical: 0.054000 analytic: 0.054000, relative error: 3.804675e-11\n",
      "numerical: 10.408111 analytic: 10.408112, relative error: 4.990051e-08\n",
      "numerical: 0.390267 analytic: 0.390267, relative error: 6.366544e-11\n",
      "numerical: 0.054000 analytic: 0.054000, relative error: 3.804675e-11\n",
      "numerical: 0.361933 analytic: 0.361933, relative error: 3.054748e-09\n",
      "numerical: 0.018669 analytic: 0.018669, relative error: 1.365690e-09\n",
      "numerical: 0.001069 analytic: 0.001069, relative error: 1.410496e-08\n",
      "Gradient check bias\n",
      "numerical: -0.070014 analytic: -0.070014, relative error: 1.030416e-10\n",
      "numerical: -0.070014 analytic: -0.070014, relative error: 1.030416e-10\n",
      "numerical: -0.070014 analytic: -0.070014, relative error: 1.030416e-10\n",
      "numerical: -0.070014 analytic: -0.070014, relative error: 1.030416e-10\n",
      "numerical: -0.070014 analytic: -0.070014, relative error: 1.030416e-10\n",
      "numerical: -0.070014 analytic: -0.070014, relative error: 1.030416e-10\n",
      "numerical: -0.070014 analytic: -0.070014, relative error: 1.030416e-10\n",
      "numerical: -0.070014 analytic: -0.070014, relative error: 1.030416e-10\n",
      "numerical: -0.070014 analytic: -0.070014, relative error: 1.030416e-10\n",
      "numerical: -0.070014 analytic: -0.070014, relative error: 1.030416e-10\n",
      "numerical: -0.070014 analytic: -0.070014, relative error: 1.030416e-10\n",
      "numerical: -0.070014 analytic: -0.070014, relative error: 1.030416e-10\n",
      "numerical: -0.070014 analytic: -0.070014, relative error: 1.030416e-10\n",
      "numerical: -0.070014 analytic: -0.070014, relative error: 1.030416e-10\n",
      "numerical: -0.070014 analytic: -0.070014, relative error: 1.030416e-10\n"
     ]
    }
   ],
   "source": [
    "loss, dw2, db2 = log_loss_naive(w2, b2, X_train2, y_train2, alpha=1)\n",
    "\n",
    "print(\"Gradient check w\")\n",
    "# Check with numerical gradient w\n",
    "f = lambda w2: log_loss_naive(w2, b2, X_train2, y_train2, alpha=1)[0]\n",
    "grad_numerical = grad_check_sparse(f, w2, dw2, 15, error=1e-4)\n",
    "\n",
    "print(\"Gradient check bias\")\n",
    "# Check with numerical gradient b\n",
    "f2 = lambda b2: log_loss_naive(w2, b2, X_train2, y_train2, alpha=1)[0]\n",
    "grad_numerical = grad_check_sparse(f2, b2, db2, 15,  error=1e-5)"
   ]
  },
  {
   "cell_type": "markdown",
   "id": "31564092",
   "metadata": {},
   "source": [
    "# Vectorized"
   ]
  },
  {
   "cell_type": "code",
   "execution_count": 13,
   "id": "fc5084e9",
   "metadata": {
    "deletable": false,
    "nbgrader": {
     "cell_type": "code",
     "checksum": "6f452aaa24d69e2257c0851d750fd4aa",
     "grade": false,
     "grade_id": "cell-a96e9a6d51919ffc",
     "locked": false,
     "schema_version": 3,
     "solution": true,
     "task": false
    }
   },
   "outputs": [],
   "source": [
    "def log_loss_vectorized(w, b,X, y, alpha=0):\n",
    "    \"\"\"\n",
    "    log loss function WITHOUT FOR LOOPs\n",
    "    \n",
    "    Returns a tuple of:\n",
    "    - loss \n",
    "    - gradient with respect to weights w\n",
    "    \"\"\"\n",
    "    \n",
    "    N, D = X.shape\n",
    "    \n",
    "    Z = X @ w + b\n",
    "    P = sigmoid(Z)\n",
    "    D = P - y\n",
    "    \n",
    "    loss = - (Z @ y) - (np.log(1 - P)).sum()\n",
    "    dw = X.T @ D\n",
    "    db = D.sum()\n",
    "    \n",
    "    loss *= 1/N\n",
    "    dw *= 1/N\n",
    "    db *= 1/N\n",
    "        \n",
    "    loss += alpha * (w @ w) + alpha * b * b\n",
    "    dw += 2 * alpha * w\n",
    "    db += 2 * alpha * b\n",
    "    \n",
    "    return loss, dw, np.array(db).reshape(1,)"
   ]
  },
  {
   "cell_type": "code",
   "execution_count": 14,
   "id": "c425e768",
   "metadata": {
    "deletable": false,
    "editable": false,
    "nbgrader": {
     "cell_type": "code",
     "checksum": "f415c75f4653f455eeeccba9f7ad1676",
     "grade": true,
     "grade_id": "cell-ca14e49ada130789",
     "locked": true,
     "points": 1,
     "schema_version": 3,
     "solution": false,
     "task": false
    }
   },
   "outputs": [
    {
     "name": "stdout",
     "output_type": "stream",
     "text": [
      "Loss error :  7.710327593890492e-17\n",
      "Gradient check w\n",
      "numerical: -0.382700 analytic: -0.382700, relative error: 1.347838e-08\n",
      "numerical: 85.791315 analytic: 85.791846, relative error: 3.099678e-06\n",
      "numerical: 0.361658 analytic: 0.361658, relative error: 3.094193e-09\n",
      "numerical: 0.001655 analytic: 0.001655, relative error: 3.904197e-09\n",
      "numerical: -0.382700 analytic: -0.382700, relative error: 1.347838e-08\n",
      "numerical: 0.001655 analytic: 0.001655, relative error: 3.904197e-09\n",
      "numerical: 0.001655 analytic: 0.001655, relative error: 3.904197e-09\n",
      "numerical: 3.023797 analytic: 3.023798, relative error: 1.066256e-07\n",
      "numerical: -0.000609 analytic: -0.000609, relative error: 4.346670e-09\n",
      "numerical: 0.000460 analytic: 0.000460, relative error: 3.363482e-09\n",
      "numerical: 3.023797 analytic: 3.023798, relative error: 1.066256e-07\n",
      "numerical: -0.003045 analytic: -0.003045, relative error: 7.796916e-10\n",
      "numerical: -0.004245 analytic: -0.004245, relative error: 7.825290e-10\n",
      "numerical: -0.004515 analytic: -0.004515, relative error: 4.170603e-10\n",
      "numerical: 0.018737 analytic: 0.018737, relative error: 4.670386e-11\n",
      "Gradient check bias\n",
      "numerical: -0.070255 analytic: -0.070255, relative error: 2.718088e-11\n",
      "numerical: -0.070255 analytic: -0.070255, relative error: 2.718088e-11\n",
      "numerical: -0.070255 analytic: -0.070255, relative error: 2.718088e-11\n",
      "numerical: -0.070255 analytic: -0.070255, relative error: 2.718088e-11\n",
      "numerical: -0.070255 analytic: -0.070255, relative error: 2.718088e-11\n",
      "numerical: -0.070255 analytic: -0.070255, relative error: 2.718088e-11\n",
      "numerical: -0.070255 analytic: -0.070255, relative error: 2.718088e-11\n",
      "numerical: -0.070255 analytic: -0.070255, relative error: 2.718088e-11\n",
      "numerical: -0.070255 analytic: -0.070255, relative error: 2.718088e-11\n",
      "numerical: -0.070255 analytic: -0.070255, relative error: 2.718088e-11\n",
      "numerical: -0.070255 analytic: -0.070255, relative error: 2.718088e-11\n",
      "numerical: -0.070255 analytic: -0.070255, relative error: 2.718088e-11\n",
      "numerical: -0.070255 analytic: -0.070255, relative error: 2.718088e-11\n",
      "numerical: -0.070255 analytic: -0.070255, relative error: 2.718088e-11\n",
      "numerical: -0.070255 analytic: -0.070255, relative error: 2.718088e-11\n"
     ]
    }
   ],
   "source": [
    "y_pred_0 = sigmoid(X_train2 @ w2 + b2)\n",
    "y_pred = np.vstack([1-y_pred_0, y_pred_0]).T\n",
    "sk_loss = log_loss(y_train2, y_pred)\n",
    "\n",
    "loss, dw2, db2 = log_loss_vectorized(w2, b2, X_train2, y_train2, alpha=0)\n",
    "print(\"Loss error : \",rel_error(loss, sk_loss))\n",
    "assert rel_error(loss, sk_loss) < 1e-9\n",
    "\n",
    "print(\"Gradient check w\")\n",
    "# Check with numerical gradient w\n",
    "f = lambda w2: log_loss_vectorized(w2, b2, X_train2, y_train2, alpha=0)[0]\n",
    "grad_numerical = grad_check_sparse(f, w2, dw2, 15, error=1e-4)\n",
    "\n",
    "print(\"Gradient check bias\")\n",
    "# Check with numerical gradient b\n",
    "f2 = lambda b2: log_loss_vectorized(w2, b2, X_train2, y_train2, alpha=0)[0]\n",
    "grad_numerical = grad_check_sparse(f2, b2, db2, 15,  error=1e-5)"
   ]
  },
  {
   "cell_type": "markdown",
   "id": "dc7be5da",
   "metadata": {},
   "source": [
    "# Vectorized with regularization"
   ]
  },
  {
   "cell_type": "code",
   "execution_count": 15,
   "id": "a4e09127",
   "metadata": {
    "deletable": false,
    "editable": false,
    "nbgrader": {
     "cell_type": "code",
     "checksum": "53e97adc2666d529eff9ba1abcd3756a",
     "grade": true,
     "grade_id": "cell-bce082fccf8b7057",
     "locked": true,
     "points": 1,
     "schema_version": 3,
     "solution": false,
     "task": false
    }
   },
   "outputs": [
    {
     "name": "stdout",
     "output_type": "stream",
     "text": [
      "Gradient check w\n",
      "numerical: 0.000315 analytic: 0.000315, relative error: 3.200546e-09\n",
      "numerical: 0.054000 analytic: 0.054000, relative error: 3.804688e-11\n",
      "numerical: -0.004571 analytic: -0.004571, relative error: 7.271969e-10\n",
      "numerical: 10.408111 analytic: 10.408112, relative error: 4.990184e-08\n",
      "numerical: -0.382712 analytic: -0.382712, relative error: 1.348157e-08\n",
      "numerical: 0.000315 analytic: 0.000315, relative error: 3.200546e-09\n",
      "numerical: 6.241310 analytic: 6.241311, relative error: 9.427906e-08\n",
      "numerical: 0.018669 analytic: 0.018669, relative error: 2.761526e-11\n",
      "numerical: -0.000271 analytic: -0.000271, relative error: 6.932716e-11\n",
      "numerical: 0.022426 analytic: 0.022426, relative error: 1.207473e-10\n",
      "numerical: 0.824292 analytic: 0.824292, relative error: 2.381495e-09\n",
      "numerical: -0.445147 analytic: -0.445147, relative error: 4.816253e-09\n",
      "numerical: -0.445147 analytic: -0.445147, relative error: 4.816253e-09\n",
      "numerical: -0.007629 analytic: -0.007629, relative error: 3.440512e-11\n",
      "numerical: 0.022426 analytic: 0.022426, relative error: 1.207473e-10\n",
      "Gradient check bias\n",
      "numerical: -0.070014 analytic: -0.070014, relative error: 1.588700e-11\n",
      "numerical: -0.070014 analytic: -0.070014, relative error: 1.588700e-11\n",
      "numerical: -0.070014 analytic: -0.070014, relative error: 1.588700e-11\n",
      "numerical: -0.070014 analytic: -0.070014, relative error: 1.588700e-11\n",
      "numerical: -0.070014 analytic: -0.070014, relative error: 1.588700e-11\n",
      "numerical: -0.070014 analytic: -0.070014, relative error: 1.588700e-11\n",
      "numerical: -0.070014 analytic: -0.070014, relative error: 1.588700e-11\n",
      "numerical: -0.070014 analytic: -0.070014, relative error: 1.588700e-11\n",
      "numerical: -0.070014 analytic: -0.070014, relative error: 1.588700e-11\n",
      "numerical: -0.070014 analytic: -0.070014, relative error: 1.588700e-11\n",
      "numerical: -0.070014 analytic: -0.070014, relative error: 1.588700e-11\n",
      "numerical: -0.070014 analytic: -0.070014, relative error: 1.588700e-11\n",
      "numerical: -0.070014 analytic: -0.070014, relative error: 1.588700e-11\n",
      "numerical: -0.070014 analytic: -0.070014, relative error: 1.588700e-11\n",
      "numerical: -0.070014 analytic: -0.070014, relative error: 1.588700e-11\n"
     ]
    }
   ],
   "source": [
    "loss, dw2, db2 = log_loss_vectorized(w2, b2, X_train2, y_train2, alpha=1)\n",
    "\n",
    "print(\"Gradient check w\")\n",
    "# Check with numerical gradient w\n",
    "f = lambda w2: log_loss_vectorized(w2, b2, X_train2, y_train2, alpha=1)[0]\n",
    "grad_numerical = grad_check_sparse(f, w2, dw2, 15, error=1e-4)\n",
    "\n",
    "print(\"Gradient check bias\")\n",
    "# Check with numerical gradient b\n",
    "f2 = lambda b2: log_loss_vectorized(w2, b2, X_train2, y_train2, alpha=1)[0]\n",
    "grad_numerical = grad_check_sparse(f2, b2, db2, 15,  error=1e-5)"
   ]
  },
  {
   "cell_type": "markdown",
   "id": "06403ea0",
   "metadata": {},
   "source": [
    "# Gradient descent for Linear models"
   ]
  },
  {
   "cell_type": "code",
   "execution_count": 16,
   "id": "5039af1c",
   "metadata": {
    "deletable": false,
    "nbgrader": {
     "cell_type": "code",
     "checksum": "9a1783db1a1f1898028260238567bed7",
     "grade": false,
     "grade_id": "cell-485e52c0efd4f4a9",
     "locked": false,
     "schema_version": 3,
     "solution": true,
     "task": false
    }
   },
   "outputs": [],
   "source": [
    "class LinearModel():\n",
    "    def __init__(self):\n",
    "        self.w = None\n",
    "        self.b = None\n",
    "\n",
    "    def train(self, X, y, learning_rate=1e-3, alpha=0, num_iters=100, batch_size=200, verbose=False):\n",
    "        N, d = X.shape\n",
    "        \n",
    "        if self.w is None: # Initialization\n",
    "            self.w = 0.001 * np.random.randn(d)\n",
    "            self.b = 0.0\n",
    "\n",
    "        # Run stochastic gradient descent to optimize w\n",
    "        \n",
    "        loss_history = []\n",
    "        for it in range(num_iters):\n",
    "            \n",
    "            index = np.random.choice(N, batch_size, replace=False)\n",
    "            \n",
    "            X_batch = X[index, :]\n",
    "            y_batch = y[index]\n",
    "                                                        \n",
    "            # evaluate loss and gradient\n",
    "            loss, dw, db = self.loss(X_batch, y_batch, alpha)\n",
    "            loss_history.append(loss)\n",
    "\n",
    "            self.w -= learning_rate * dw\n",
    "            self.b -= learning_rate * db\n",
    "            \n",
    "            if verbose and it % 10000 == 0:\n",
    "                print(\"iteration %d / %d: loss %f\" % (it, num_iters, loss))\n",
    "                \n",
    "        return loss_history\n",
    "\n",
    "    def predict(self, X):\n",
    "        pass\n",
    "\n",
    "    def loss(self, X_batch, y_batch, reg):\n",
    "        pass\n",
    "\n",
    "class LinearRegressor(LinearModel):\n",
    "    \"\"\" Linear regression \"\"\"\n",
    "\n",
    "    def loss(self, X_batch, y_batch, alpha):\n",
    "        return mse_loss_vectorized(self.w, self.b, X_batch, y_batch, alpha)\n",
    "    \n",
    "    def predict(self, X):\n",
    "        return X @ self.w + self.b\n",
    "\n",
    "class LogisticRegressor(LinearModel):\n",
    "    \"\"\" Linear regression \"\"\"\n",
    "\n",
    "    def loss(self, X_batch, y_batch, alpha):\n",
    "        return log_loss_vectorized(self.w, self.b, X_batch, y_batch, alpha)\n",
    "    \n",
    "    def predict(self, X):\n",
    "        \"\"\" Return prediction labels vector of 0 or 1 \"\"\"\n",
    "        return X @ self.w + self.b > 0"
   ]
  },
  {
   "cell_type": "markdown",
   "id": "7fa0aa79",
   "metadata": {},
   "source": [
    "## Linear regression with gradient descent"
   ]
  },
  {
   "cell_type": "code",
   "execution_count": 17,
   "id": "86925e00",
   "metadata": {
    "deletable": false,
    "editable": false,
    "nbgrader": {
     "cell_type": "code",
     "checksum": "30f1c271b16efe670214663c10743937",
     "grade": true,
     "grade_id": "cell-92f36a3b387a4277",
     "locked": true,
     "points": 2,
     "schema_version": 3,
     "solution": false,
     "task": false
    }
   },
   "outputs": [
    {
     "name": "stdout",
     "output_type": "stream",
     "text": [
      "iteration 0 / 75000: loss 26914.469491\n",
      "iteration 10000 / 75000: loss 3925.371916\n",
      "iteration 20000 / 75000: loss 2979.772292\n",
      "iteration 30000 / 75000: loss 3109.754402\n",
      "iteration 40000 / 75000: loss 2934.168923\n",
      "iteration 50000 / 75000: loss 2907.236718\n",
      "iteration 60000 / 75000: loss 2879.823378\n",
      "iteration 70000 / 75000: loss 3476.886247\n",
      "MSE scikit-learn: 2859.69634758675\n",
      "MSE gradient descent model : 2884.6180303248834\n"
     ]
    }
   ],
   "source": [
    "from sklearn.linear_model import LinearRegression\n",
    "\n",
    "sk_model = LinearRegression(fit_intercept=True)\n",
    "sk_model.fit(X_train1, y_train1)\n",
    "sk_pred = sk_model.predict(X_train1)\n",
    "sk_mse = mean_squared_error(sk_pred, y_train1)\n",
    "\n",
    "model = LinearRegressor()\n",
    "model.train(X_train1, y_train1, num_iters=75000, batch_size=64, learning_rate=1e-2, verbose=True)\n",
    "pred = model.predict(X_train1)\n",
    "mse = mean_squared_error(pred, y_train1)\n",
    "\n",
    "print(\"MSE scikit-learn:\", sk_mse)\n",
    "print(\"MSE gradient descent model :\", mse)\n",
    "assert mse - sk_mse < 100"
   ]
  },
  {
   "cell_type": "markdown",
   "id": "d17c54d8",
   "metadata": {},
   "source": [
    "## Logistc regression with gradient descent"
   ]
  },
  {
   "cell_type": "code",
   "execution_count": 18,
   "id": "9219f422",
   "metadata": {
    "deletable": false,
    "editable": false,
    "nbgrader": {
     "cell_type": "code",
     "checksum": "c6196155f76f4eded31fefce67a76d60",
     "grade": true,
     "grade_id": "cell-925a2ddb5c1ba7ff",
     "locked": true,
     "points": 2,
     "schema_version": 3,
     "solution": false,
     "task": false
    }
   },
   "outputs": [
    {
     "name": "stdout",
     "output_type": "stream",
     "text": [
      "iteration 0 / 75000: loss 0.693513\n",
      "iteration 10000 / 75000: loss 0.107225\n",
      "iteration 20000 / 75000: loss 0.044944\n",
      "iteration 30000 / 75000: loss 0.071879\n",
      "iteration 40000 / 75000: loss 0.148246\n",
      "iteration 50000 / 75000: loss 0.033898\n",
      "iteration 60000 / 75000: loss 0.205370\n",
      "iteration 70000 / 75000: loss 0.072091\n",
      "Log-loss scikit-learn: 0.44341928598210933\n",
      "Log-loss gradiet descent model : 0.44341928598210933\n",
      "Error : 0.0\n"
     ]
    }
   ],
   "source": [
    "from sklearn.linear_model import LogisticRegression\n",
    "from sklearn.preprocessing import StandardScaler\n",
    "\n",
    "scaler = StandardScaler()\n",
    "X_train2 = scaler.fit_transform(X_train2)\n",
    "\n",
    "sk_model = LogisticRegression(fit_intercept=True)\n",
    "sk_model.fit(X_train2, y_train2)\n",
    "sk_pred = sk_model.predict(X_train2)\n",
    "sk_log_loss = log_loss(sk_pred, y_train2)\n",
    "\n",
    "model = LogisticRegressor()\n",
    "model.train(X_train2, y_train2, num_iters=75000, batch_size=64, learning_rate=1e-3, verbose=True)\n",
    "pred = model.predict(X_train2)\n",
    "model_log_loss = log_loss(pred, y_train2)\n",
    "\n",
    "print(\"Log-loss scikit-learn:\", sk_log_loss)\n",
    "print(\"Log-loss gradiet descent model :\", model_log_loss)\n",
    "print(\"Error :\", rel_error(sk_log_loss, model_log_loss))\n",
    "assert rel_error(sk_log_loss, model_log_loss) < 1e-7"
   ]
  },
  {
   "cell_type": "code",
   "execution_count": null,
   "id": "396f7431",
   "metadata": {},
   "outputs": [],
   "source": []
  }
 ],
 "metadata": {
  "kernelspec": {
   "display_name": "Python 3 (ipykernel)",
   "language": "python",
   "name": "python3"
  },
  "language_info": {
   "codemirror_mode": {
    "name": "ipython",
    "version": 3
   },
   "file_extension": ".py",
   "mimetype": "text/x-python",
   "name": "python",
   "nbconvert_exporter": "python",
   "pygments_lexer": "ipython3",
   "version": "3.11.7"
  }
 },
 "nbformat": 4,
 "nbformat_minor": 5
}
