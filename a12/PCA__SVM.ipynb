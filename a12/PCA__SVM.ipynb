{
 "cells": [
  {
   "cell_type": "markdown",
   "id": "1ebb2d94",
   "metadata": {},
   "source": [
    "# MISA\n",
    "Alohan'ny mamerina dia avereno atao Run ny notebook iray manontolo. Ny fanaovana azy dia redémarrena mihitsy ny kernel aloha (jereo menubar, safidio **Kernel$\\rightarrow$Restart Kernel and Run All Cells**).\n",
    "\n",
    "Izay misy hoe `YOUR CODE HERE` na `YOUR ANSWER HERE` ihany no fenoina. Afaka manampy cells vaovao raha ilaina. Aza adino ny mameno references eo ambany raha ilaina."
   ]
  },
  {
   "cell_type": "markdown",
   "id": "80724591",
   "metadata": {},
   "source": [
    "## References\n",
    "Eto ilay references rehetra no apetraka"
   ]
  },
  {
   "cell_type": "markdown",
   "id": "66f037c4",
   "metadata": {},
   "source": [
    "---"
   ]
  },
  {
   "cell_type": "code",
   "execution_count": 1,
   "id": "4eec0cbd",
   "metadata": {
    "deletable": false,
    "editable": false,
    "nbgrader": {
     "cell_type": "code",
     "checksum": "f7791ca10232655ac53dd4bba44138d2",
     "grade": false,
     "grade_id": "cell-bf951004994ebba2",
     "locked": true,
     "schema_version": 3,
     "solution": false,
     "task": false
    }
   },
   "outputs": [],
   "source": [
    "from sklearn.decomposition  import PCA\n",
    "from sklearn.preprocessing import StandardScaler\n",
    "from sklearn.datasets import load_boston, load_iris, load_breast_cancer, make_blobs\n",
    "import numpy as np\n",
    "from random import randrange\n",
    "from sklearn.metrics import accuracy_score\n",
    "import cvxpy as cp\n",
    "\n",
    "def grad_check_sparse(f, x, analytic_grad, num_checks=12, h=1e-5, error=1e-9):\n",
    "    \"\"\"\n",
    "    sample a few random elements and only return numerical\n",
    "    in this dimensions\n",
    "    \"\"\"\n",
    "\n",
    "    for i in range(num_checks):\n",
    "        ix = tuple([randrange(m) for m in x.shape])\n",
    "\n",
    "        oldval = x[ix]\n",
    "        x[ix] = oldval + h  # increment by h\n",
    "        fxph = f(x)  # evaluate f(x + h)\n",
    "        x[ix] = oldval - h  # increment by h\n",
    "        fxmh = f(x)  # evaluate f(x - h)\n",
    "        x[ix] = oldval  # reset\n",
    "\n",
    "        grad_numerical = (fxph - fxmh) / (2 * h)\n",
    "        grad_analytic = analytic_grad[ix]\n",
    "        rel_error = abs(grad_numerical - grad_analytic) / (\n",
    "            abs(grad_numerical) + abs(grad_analytic)\n",
    "        )\n",
    "        print(\n",
    "            \"numerical: %f analytic: %f, relative error: %e\"\n",
    "            % (grad_numerical, grad_analytic, rel_error)\n",
    "        )\n",
    "        assert rel_error < error\n",
    "\n",
    "def rel_error(x, y):\n",
    "    \"\"\" returns relative error \"\"\"\n",
    "    return np.max(np.abs(x - y) / (np.maximum(1e-8, np.abs(x) + np.abs(y))))\n",
    "\n",
    "data = load_iris()\n",
    "X, y = data.data, data.target"
   ]
  },
  {
   "cell_type": "markdown",
   "id": "ef140bb9",
   "metadata": {},
   "source": [
    "# PCA"
   ]
  },
  {
   "cell_type": "code",
   "execution_count": 2,
   "id": "e8e97248",
   "metadata": {
    "deletable": false,
    "nbgrader": {
     "cell_type": "code",
     "checksum": "b94485256a5b66d80cbb30860292ac41",
     "grade": false,
     "grade_id": "cell-a61ae6533b88fb95",
     "locked": false,
     "schema_version": 3,
     "solution": true,
     "task": false
    }
   },
   "outputs": [],
   "source": [
    "class PrincipalComponentAnalysis():\n",
    "    def __init__(self, n_components):\n",
    "        self.n_components = n_components\n",
    "        self.components = None\n",
    "    \n",
    "    def fit(self, X):\n",
    "        Xc = X - np.mean(X, axis=0)\n",
    "        _, _, self.components = np.linalg.svd(Xc)\n",
    "    \n",
    "    def transform(self, X):\n",
    "        trans = self.components @ X.T\n",
    "        return trans[:self.n_components, :].T"
   ]
  },
  {
   "cell_type": "code",
   "execution_count": 3,
   "id": "c46e59cf",
   "metadata": {
    "deletable": false,
    "editable": false,
    "nbgrader": {
     "cell_type": "code",
     "checksum": "23e107a1a8ddddc51278cf396f27f76f",
     "grade": true,
     "grade_id": "cell-01016aef983d4a70",
     "locked": true,
     "points": 2,
     "schema_version": 3,
     "solution": false,
     "task": false
    }
   },
   "outputs": [
    {
     "name": "stdout",
     "output_type": "stream",
     "text": [
      "1.5352932325130042e-13\n"
     ]
    }
   ],
   "source": [
    "X_centered = X - np.mean(X, axis=0)\n",
    "\n",
    "pca = PCA(n_components=3)\n",
    "pca.fit(X_centered)\n",
    "X_pca_trans = pca.transform(X_centered)\n",
    "\n",
    "model = PrincipalComponentAnalysis(n_components=3)\n",
    "model.fit(X_centered)\n",
    "X_model_trans = model.transform(X_centered)\n",
    "\n",
    "sign_correct_X_model_trans = np.concatenate([np.expand_dims(X_model_trans[:,0],axis=1),-X_model_trans[:,1:]],axis=1)\n",
    "\n",
    "error = rel_error(X_pca_trans, sign_correct_X_model_trans)\n",
    "print(error)\n",
    "assert  error < 1e-11"
   ]
  },
  {
   "cell_type": "markdown",
   "id": "aae54f61",
   "metadata": {},
   "source": [
    "# Binary Linear SVM with CVXPY"
   ]
  },
  {
   "cell_type": "markdown",
   "id": "f038eeec",
   "metadata": {},
   "source": [
    "## Hard margin "
   ]
  },
  {
   "cell_type": "code",
   "execution_count": 4,
   "id": "ae0eae3d",
   "metadata": {
    "deletable": false,
    "editable": false,
    "nbgrader": {
     "cell_type": "code",
     "checksum": "67a78e61592d16446bae3f77e17ceaea",
     "grade": false,
     "grade_id": "cell-225fb5eb2216ae3b",
     "locked": true,
     "schema_version": 3,
     "solution": false,
     "task": false
    }
   },
   "outputs": [],
   "source": [
    "X2, y2 = make_blobs(n_samples=300, centers=2, n_features=12, random_state=47)\n",
    "scaler = StandardScaler()\n",
    "X2 = scaler.fit_transform(X2)\n",
    "y2[y2 == 0] = -1"
   ]
  },
  {
   "cell_type": "markdown",
   "id": "00f1bc8a",
   "metadata": {
    "deletable": false,
    "editable": false,
    "nbgrader": {
     "cell_type": "markdown",
     "checksum": "fb10a2e1c603f3c29915c7cac6bf7866",
     "grade": false,
     "grade_id": "cell-b459cc87f3d8726e",
     "locked": true,
     "schema_version": 3,
     "solution": false,
     "task": false
    }
   },
   "source": [
    "$$\\min_{\\mathbf{w},b}\\frac{1}{2}||\\mathbf{w}||^2$$ <br>\n",
    "$$\\text{s.t } y_i(\\mathbf{w}^{\\top}\\mathbf{x}_i + b) \\ge 1, \\ i=1...N$$"
   ]
  },
  {
   "cell_type": "code",
   "execution_count": 5,
   "id": "829be3d2",
   "metadata": {
    "deletable": false,
    "nbgrader": {
     "cell_type": "code",
     "checksum": "1bcc3a988e383b297c2805d1f6aca7dc",
     "grade": false,
     "grade_id": "cell-d04165c70ffbb870",
     "locked": false,
     "schema_version": 3,
     "solution": true,
     "task": false
    }
   },
   "outputs": [],
   "source": [
    "class LinearSVMHardMargin():\n",
    "    def __init__(self):\n",
    "        self.w = None\n",
    "        self.b = 0\n",
    "    \n",
    "    def fit(self, X, y):\n",
    "        \n",
    "        N, d = X.shape\n",
    "        \n",
    "        w = cp.Variable(d)\n",
    "        objective = cp.Minimize(cp.sum_squares(w) / 2)\n",
    "        constraints = [\n",
    "            y[i] * (w @ X[i] + self.b) >= 1 for i in range(N)\n",
    "        ]\n",
    "        \n",
    "        problem = cp.Problem(objective, constraints)\n",
    "        problem.solve()\n",
    "        \n",
    "        self.w = w.value\n",
    "        \n",
    "    def predict(self, X):\n",
    "        \"\"\"Return the predicted label 1 or -1\"\"\"\n",
    "        return np.sign(X @ self.w + self.b)"
   ]
  },
  {
   "cell_type": "code",
   "execution_count": 6,
   "id": "51c5cf5a",
   "metadata": {
    "deletable": false,
    "editable": false,
    "nbgrader": {
     "cell_type": "code",
     "checksum": "4fcf9bdd4f28f6b42218539a988b638b",
     "grade": true,
     "grade_id": "cell-5d1f0df83bcb86d1",
     "locked": true,
     "points": 1,
     "schema_version": 3,
     "solution": false,
     "task": false
    }
   },
   "outputs": [
    {
     "name": "stdout",
     "output_type": "stream",
     "text": [
      "1.0\n"
     ]
    }
   ],
   "source": [
    "model = LinearSVMHardMargin()\n",
    "model.fit(X2, y2)\n",
    "pred = model.predict(X2)\n",
    "accuracy = accuracy_score(y2, pred)\n",
    "print(accuracy)\n",
    "assert accuracy == 1"
   ]
  },
  {
   "cell_type": "markdown",
   "id": "03e3371a",
   "metadata": {},
   "source": [
    "## Soft Margin"
   ]
  },
  {
   "cell_type": "code",
   "execution_count": 7,
   "id": "03e3bfe9",
   "metadata": {
    "deletable": false,
    "editable": false,
    "nbgrader": {
     "cell_type": "code",
     "checksum": "14637e9c774165ae0c123891964870b3",
     "grade": false,
     "grade_id": "cell-e1ffa5b41b5d9d99",
     "locked": true,
     "schema_version": 3,
     "solution": false,
     "task": false
    }
   },
   "outputs": [],
   "source": [
    "data3 = load_breast_cancer()\n",
    "X3, y3 = data3.data, data3.target\n",
    "scaler = StandardScaler()\n",
    "X3 = scaler.fit_transform(X3)\n",
    "y3[y3 == 0] = -1"
   ]
  },
  {
   "cell_type": "markdown",
   "id": "86939d9a",
   "metadata": {},
   "source": [
    "$$L(\\mathbf{w},b) = \\frac{1}{N} \\sum_{i=1}^N \\max(0, 1 - y_i(\\mathbf{w}^{\\top}\\mathbf{x}_i + b)) + \\lambda||\\mathbf{w}||^2_2$$"
   ]
  },
  {
   "cell_type": "code",
   "execution_count": 8,
   "id": "118e55f7",
   "metadata": {
    "deletable": false,
    "nbgrader": {
     "cell_type": "code",
     "checksum": "6723ed1e25d3de291f7156530cf97613",
     "grade": false,
     "grade_id": "cell-dff3e00a210cd783",
     "locked": false,
     "schema_version": 3,
     "solution": true,
     "task": false
    }
   },
   "outputs": [],
   "source": [
    "class LinearSVMSoftMargin():\n",
    "    def __init__(self, alpha=0):\n",
    "        self.w = None\n",
    "        self.b = 0\n",
    "        self.alpha = alpha\n",
    "    \n",
    "    def fit(self, X, y):\n",
    "        \n",
    "        N, d = X.shape\n",
    "        \n",
    "        w = cp.Variable(d)\n",
    "        b = cp.Variable(1)\n",
    "        \n",
    "        objective = cp.Minimize(\n",
    "            cp.mean(cp.maximum(0, 1 - cp.multiply(y, X @ w + b))) + self.alpha * cp.sum_squares(w)\n",
    "        )\n",
    "        \n",
    "        problem = cp.Problem(objective)\n",
    "        problem.solve()\n",
    "        \n",
    "        self.w = w.value\n",
    "        self.b = b.value\n",
    "        \n",
    "    def predict(self, X):\n",
    "        \"\"\"Return the predicted label 1 or -1\"\"\"\n",
    "        return np.sign(X @ self.w + self.b)"
   ]
  },
  {
   "cell_type": "code",
   "execution_count": 9,
   "id": "716b990e",
   "metadata": {
    "deletable": false,
    "editable": false,
    "nbgrader": {
     "cell_type": "code",
     "checksum": "6c58313a6f325f89e25254d2bc3aecae",
     "grade": true,
     "grade_id": "cell-915364d1b5f54b7e",
     "locked": true,
     "points": 1,
     "schema_version": 3,
     "solution": false,
     "task": false
    }
   },
   "outputs": [
    {
     "name": "stdout",
     "output_type": "stream",
     "text": [
      "0.9876977152899824\n"
     ]
    }
   ],
   "source": [
    "model = LinearSVMSoftMargin(alpha=1e-3)\n",
    "model.fit(X3, y3)\n",
    "pred = model.predict(X3)\n",
    "accuracy = accuracy_score(y3, pred)\n",
    "print(accuracy)\n",
    "assert accuracy >= 0.98"
   ]
  },
  {
   "cell_type": "markdown",
   "id": "0fc3b15c",
   "metadata": {},
   "source": [
    "# Multiclass Linear SVM"
   ]
  },
  {
   "cell_type": "markdown",
   "id": "549dff61",
   "metadata": {},
   "source": [
    "## Loss"
   ]
  },
  {
   "cell_type": "markdown",
   "id": "0de9d832",
   "metadata": {},
   "source": [
    "$$L(\\mathbf{W}) = \\sum_{i=1}^N \\sum_{j \\neq y_i} \\max(0, s_j - s_{y_i} + 1) + \\lambda||\\mathbf{w}||^2_2$$ <br>\n",
    "$$\\text{where } s_j = (f(\\mathbf{x}_i;\\mathbf{W}))_j = (\\mathbf{W}\\mathbf{x}_i)_j \\text{ is the score for the j-th class}$$"
   ]
  },
  {
   "cell_type": "code",
   "execution_count": 10,
   "id": "6d4d5e7a",
   "metadata": {
    "deletable": false,
    "editable": false,
    "nbgrader": {
     "cell_type": "code",
     "checksum": "12b5f742a05bdaf1b6adf2bb6083dcd3",
     "grade": false,
     "grade_id": "cell-67c81d664d204471",
     "locked": true,
     "schema_version": 3,
     "solution": false,
     "task": false
    }
   },
   "outputs": [],
   "source": [
    "W = np.random.randn(X.shape[1], 3) * 0.0001"
   ]
  },
  {
   "cell_type": "code",
   "execution_count": 22,
   "id": "fd15eccd",
   "metadata": {
    "deletable": false,
    "nbgrader": {
     "cell_type": "code",
     "checksum": "53138b3da2e0d48438be8ea853f14eca",
     "grade": false,
     "grade_id": "cell-a015ff237ad977a1",
     "locked": false,
     "schema_version": 3,
     "solution": true,
     "task": false
    }
   },
   "outputs": [],
   "source": [
    "def svm_loss_naive(W, X, y, alpha):\n",
    "    \"\"\"\n",
    "    Multiclass SVM loss function WITH FOR LOOPS\n",
    "\n",
    "    Inputs:\n",
    "    - W: array of shape (D, C) containing weights\n",
    "    - X: array of shape (N, D) containing a minibatch of data\n",
    "    - y: array of shape (N,) containing training labels\n",
    "    - alpha: (float) regularization \n",
    "\n",
    "    Returns a tuple of:\n",
    "    - loss as single float\n",
    "    - gradient with respect to weights W;  same shape as W\n",
    "    \"\"\"\n",
    "    \n",
    "    # Initialization\n",
    "    loss = 0.0\n",
    "    dW = np.zeros_like(W)\n",
    "    \n",
    "    \n",
    "    D, C = W.shape\n",
    "    N = X.shape[0]\n",
    "    \n",
    "    for i in range(N):\n",
    "        c = 0.0\n",
    "        for n in range(C):\n",
    "            M = W[:,n] @ X[i] - W[:,y[i]] @ X[i] + (n != y[i])\n",
    "            loss += max(0, M)\n",
    "            c += (M > 0)\n",
    "            dW[:, n] += (1 - (n == y[i])) * X[i] if M >= 0 else 0\n",
    "        dW[:, y[i]] -= X[i] * c\n",
    "            \n",
    "    loss += np.sum(alpha * W**2)\n",
    "    dW += 2 * alpha * W\n",
    "    \n",
    "    return loss, dW"
   ]
  },
  {
   "cell_type": "code",
   "execution_count": 23,
   "id": "39b07bb6",
   "metadata": {
    "deletable": false,
    "editable": false,
    "nbgrader": {
     "cell_type": "code",
     "checksum": "34ca0a0a01822fa2a097921b9df2b6c5",
     "grade": true,
     "grade_id": "cell-94feff1af9a3c069",
     "locked": true,
     "points": 1,
     "schema_version": 3,
     "solution": false,
     "task": false
    }
   },
   "outputs": [
    {
     "name": "stdout",
     "output_type": "stream",
     "text": [
      "numerical: -124.000000 analytic: -124.000000, relative error: 9.722173e-12\n",
      "numerical: 344.400000 analytic: 344.400000, relative error: 1.263701e-11\n",
      "numerical: 43.100000 analytic: 43.100000, relative error: 5.649351e-11\n",
      "numerical: -19.000000 analytic: -19.000000, relative error: 9.117946e-12\n",
      "numerical: 43.100000 analytic: 43.100000, relative error: 5.649351e-11\n",
      "numerical: -75.300000 analytic: -75.300000, relative error: 3.981276e-11\n",
      "numerical: 344.400000 analytic: 344.400000, relative error: 1.263701e-11\n",
      "numerical: 12.500000 analytic: 12.500000, relative error: 2.155483e-10\n",
      "numerical: 125.600000 analytic: 125.600000, relative error: 3.877414e-11\n",
      "numerical: -55.600000 analytic: -55.600000, relative error: 9.225132e-11\n",
      "numerical: -19.000000 analytic: -19.000000, relative error: 9.117946e-12\n",
      "numerical: -13.900000 analytic: -13.900000, relative error: 2.711703e-10\n"
     ]
    }
   ],
   "source": [
    "# NO REGLARIZATION\n",
    "loss, dW = svm_loss_naive(W, X, y, 0.0)\n",
    "\n",
    "f = lambda W: svm_loss_naive(W, X, y, 0.0)[0]\n",
    "grad_numerical = grad_check_sparse(f, W, dW, error=1e-9)"
   ]
  },
  {
   "cell_type": "code",
   "execution_count": 24,
   "id": "58d52fb4",
   "metadata": {
    "deletable": false,
    "editable": false,
    "nbgrader": {
     "cell_type": "code",
     "checksum": "0df6e08de38631bb7c4d8ce16091899a",
     "grade": true,
     "grade_id": "cell-37dfe1a4bbbdf142",
     "locked": true,
     "points": 1,
     "schema_version": 3,
     "solution": false,
     "task": false
    }
   },
   "outputs": [
    {
     "name": "stdout",
     "output_type": "stream",
     "text": [
      "numerical: -124.000238 analytic: -124.000238, relative error: 3.102774e-12\n",
      "numerical: -111.700389 analytic: -111.700389, relative error: 7.398333e-12\n",
      "numerical: 43.099809 analytic: 43.099809, relative error: 3.806605e-11\n",
      "numerical: -13.900171 analytic: -13.900171, relative error: 2.696061e-10\n",
      "numerical: 43.099809 analytic: 43.099809, relative error: 3.806605e-11\n",
      "numerical: 143.000231 analytic: 143.000231, relative error: 6.471990e-12\n",
      "numerical: 125.600265 analytic: 125.600265, relative error: 3.747817e-11\n",
      "numerical: 12.500661 analytic: 12.500661, relative error: 2.246315e-10\n",
      "numerical: 43.099809 analytic: 43.099809, relative error: 3.806605e-11\n",
      "numerical: -269.100212 analytic: -269.100212, relative error: 3.927917e-12\n",
      "numerical: 344.400288 analytic: 344.400288, relative error: 1.390104e-11\n",
      "numerical: -124.000238 analytic: -124.000238, relative error: 3.102774e-12\n"
     ]
    }
   ],
   "source": [
    "#REGLARIZATION\n",
    "loss, dW = svm_loss_naive(W, X, y, 2)\n",
    "\n",
    "f = lambda W: svm_loss_naive(W, X, y, 2)[0]\n",
    "grad_numerical = grad_check_sparse(f, W, dW, error=1e-9)"
   ]
  },
  {
   "cell_type": "code",
   "execution_count": 100,
   "id": "3ecca1d8",
   "metadata": {
    "deletable": false,
    "nbgrader": {
     "cell_type": "code",
     "checksum": "a5ebb303976d8369a9bb802d3976cad1",
     "grade": false,
     "grade_id": "cell-7e17d2c0c1de2480",
     "locked": false,
     "schema_version": 3,
     "solution": true,
     "task": false
    }
   },
   "outputs": [],
   "source": [
    "def svm_loss_vectorized(W, X, y, alpha):\n",
    "    \"\"\"\n",
    "    Multiclass SVM loss function WITHOUT FOR LOOPS\n",
    "\n",
    "    Inputs:\n",
    "    - W: array of shape (D, C) containing weights\n",
    "    - X: array of shape (N, D) containing a minibatch of data\n",
    "    - y: array of shape (N,) containing training labels\n",
    "    - alpha: (float) regularization \n",
    "\n",
    "    Returns a tuple of:\n",
    "    - loss as single float\n",
    "    - gradient with respect to weights W;  same shape as W\n",
    "    \"\"\"\n",
    "    # Initialize the loss and gradient to zero.\n",
    "    loss = 0.0\n",
    "    dW = np.zeros_like(W)\n",
    "    \n",
    "    N, D = X.shape\n",
    "    C = W.shape[1]\n",
    "    \n",
    "    S = X @ W\n",
    "    \n",
    "    idx = np.arange(N)\n",
    "    \n",
    "    mrg = np.maximum(0, S.T - S[idx,y] + 1).T\n",
    "    mrg[idx,y] = 0\n",
    "    \n",
    "    mnn = np.where(mrg > 0, 1, 0)\n",
    "    \n",
    "    mtn = np.zeros_like(mnn)\n",
    "    mtn[idx,y] = np.sum(mnn, axis=1)\n",
    "    \n",
    "    dW += X.T @ mnn\n",
    "    dW -= X.T @ mtn\n",
    "    \n",
    "    loss = np.sum(mrg)\n",
    "       \n",
    "    loss += np.sum(alpha * W**2)\n",
    "    dW += 2 * alpha * W\n",
    "\n",
    "    \n",
    "    return loss, dW"
   ]
  },
  {
   "cell_type": "code",
   "execution_count": 101,
   "id": "0fa38170",
   "metadata": {
    "deletable": false,
    "editable": false,
    "nbgrader": {
     "cell_type": "code",
     "checksum": "884d69e79b74e6756f42d7927309de82",
     "grade": true,
     "grade_id": "cell-1bf11ff8259d6847",
     "locked": true,
     "points": 1,
     "schema_version": 3,
     "solution": false,
     "task": false
    }
   },
   "outputs": [
    {
     "name": "stdout",
     "output_type": "stream",
     "text": [
      "numerical: -269.100000 analytic: -269.100000, relative error: 2.475678e-13\n",
      "numerical: 143.000000 analytic: 143.000000, relative error: 9.641717e-12\n",
      "numerical: 143.000000 analytic: 143.000000, relative error: 9.641717e-12\n",
      "numerical: -75.300000 analytic: -75.300000, relative error: 2.067651e-12\n",
      "numerical: 344.400000 analytic: 344.400000, relative error: 4.384404e-12\n",
      "numerical: -269.100000 analytic: -269.100000, relative error: 2.475678e-13\n",
      "numerical: -269.100000 analytic: -269.100000, relative error: 2.475678e-13\n",
      "numerical: 43.100000 analytic: 43.100000, relative error: 9.450383e-12\n",
      "numerical: 12.500000 analytic: 12.500000, relative error: 1.182578e-11\n",
      "numerical: -13.900000 analytic: -13.900000, relative error: 6.668667e-11\n",
      "numerical: 43.100000 analytic: 43.100000, relative error: 9.450383e-12\n",
      "numerical: 143.000000 analytic: 143.000000, relative error: 9.641717e-12\n"
     ]
    }
   ],
   "source": [
    "# NO REGLARIZATION\n",
    "loss, dW = svm_loss_vectorized(W, X, y, 0.0)\n",
    "\n",
    "f = lambda W: svm_loss_vectorized(W, X, y, 0.0)[0]\n",
    "grad_numerical = grad_check_sparse(f, W, dW, error=1e-9)"
   ]
  },
  {
   "cell_type": "code",
   "execution_count": 102,
   "id": "66b82330",
   "metadata": {
    "deletable": false,
    "editable": false,
    "nbgrader": {
     "cell_type": "code",
     "checksum": "53c5c62906c11829422603614eae7ba7",
     "grade": true,
     "grade_id": "cell-33078afde070ae4f",
     "locked": true,
     "points": 1,
     "schema_version": 3,
     "solution": false,
     "task": false
    }
   },
   "outputs": [
    {
     "name": "stdout",
     "output_type": "stream",
     "text": [
      "numerical: 43.099809 analytic: 43.099809, relative error: 2.787813e-11\n",
      "numerical: -18.999514 analytic: -18.999514, relative error: 3.103010e-11\n",
      "numerical: -75.299889 analytic: -75.299889, relative error: 3.153003e-12\n",
      "numerical: -111.700389 analytic: -111.700389, relative error: 7.397316e-12\n",
      "numerical: -269.100212 analytic: -269.100212, relative error: 1.352961e-12\n",
      "numerical: 143.000231 analytic: 143.000231, relative error: 6.471891e-12\n",
      "numerical: 125.600265 analytic: 125.600265, relative error: 7.778390e-12\n",
      "numerical: -18.999514 analytic: -18.999514, relative error: 3.103010e-11\n",
      "numerical: -13.900171 analytic: -13.900171, relative error: 6.512491e-11\n",
      "numerical: -13.900171 analytic: -13.900171, relative error: 6.512491e-11\n",
      "numerical: -111.700389 analytic: -111.700389, relative error: 7.397316e-12\n",
      "numerical: -55.599017 analytic: -55.599017, relative error: 2.220370e-11\n"
     ]
    }
   ],
   "source": [
    "# REGLARIZATION\n",
    "loss, dW = svm_loss_vectorized(W, X, y, 2)\n",
    "\n",
    "f = lambda W: svm_loss_vectorized(W, X, y, 2)[0]\n",
    "grad_numerical = grad_check_sparse(f, W, dW, error=1e-9)"
   ]
  },
  {
   "cell_type": "markdown",
   "id": "55615d17",
   "metadata": {},
   "source": [
    "## Gradient descent"
   ]
  },
  {
   "cell_type": "code",
   "execution_count": 103,
   "id": "366dcd62",
   "metadata": {
    "deletable": false,
    "nbgrader": {
     "cell_type": "code",
     "checksum": "2f1639f76b795c999d467767430e2778",
     "grade": false,
     "grade_id": "cell-41975286849a6d83",
     "locked": false,
     "schema_version": 3,
     "solution": true,
     "task": false
    }
   },
   "outputs": [],
   "source": [
    "class LinearModel():\n",
    "    def __init__(self, fit_intercept=True):\n",
    "        self.W = None\n",
    "        self.fit_intercept = fit_intercept\n",
    "\n",
    "    def train(self, X, y, learning_rate=1e-3, alpha=0, num_iters=100, batch_size=200, verbose=False):\n",
    "        if self.fit_intercept:\n",
    "            X =  np.hstack( (np.ones((X.shape[0],1)), X) )\n",
    "\n",
    "            \n",
    "        N, d = X.shape\n",
    "        \n",
    "        C = (np.max(y) + 1) \n",
    "        if self.W is None: # Initialization\n",
    "            self.W = 0.001 * np.random.randn(d, C)\n",
    "\n",
    "        # Run stochastic gradient descent to optimize W\n",
    "        \n",
    "        loss_history = []\n",
    "        for it in range(num_iters):\n",
    "            \n",
    "            index = np.random.choice(N, batch_size, replace=False)\n",
    "            X_batch = X[index, :]\n",
    "            y_batch = y[index]\n",
    "            \n",
    "            # evaluate loss and gradient\n",
    "            loss, dW = self.loss(X_batch, y_batch, alpha)\n",
    "            loss_history.append(loss)\n",
    "\n",
    "            self.W -= learning_rate * dW\n",
    "            \n",
    "            if verbose and it % 10000 == 0:\n",
    "                print(\"iteration %d / %d: loss %f\" % (it, num_iters, loss))\n",
    "                \n",
    "        return loss_history\n",
    "\n",
    "    def predict(self, X):\n",
    "        pass\n",
    "\n",
    "    def loss(self, X_batch, y_batch, reg):\n",
    "        pass\n",
    "\n",
    "class LinearSVM(LinearModel):\n",
    "    \"\"\" Softmax regression \"\"\"\n",
    "\n",
    "    def loss(self, X_batch, y_batch, alpha):\n",
    "        return svm_loss_vectorized(self.W, X_batch, y_batch, alpha)\n",
    "    \n",
    "    def predict(self, X):\n",
    "        \"\"\" \n",
    "        Inputs:\n",
    "        - X: array of shape (N, D) \n",
    "\n",
    "        Returns:\n",
    "        - y_pred: 1-dimensional array of length N, each element is an integer giving the predicted class \n",
    "        \"\"\"\n",
    "        if self.fit_intercept:\n",
    "            X =  np.hstack( (np.ones((X.shape[0],1)), X) )\n",
    "            \n",
    "        y_pred = np.argmax(X @ self.W, axis=1)\n",
    "        return y_pred"
   ]
  },
  {
   "cell_type": "code",
   "execution_count": 104,
   "id": "344add9f",
   "metadata": {
    "deletable": false,
    "editable": false,
    "nbgrader": {
     "cell_type": "code",
     "checksum": "aee08beb636f046b69da3ada47961ae6",
     "grade": true,
     "grade_id": "cell-f1cb5669bcaed283",
     "locked": true,
     "points": 1,
     "schema_version": 3,
     "solution": false,
     "task": false
    }
   },
   "outputs": [
    {
     "name": "stdout",
     "output_type": "stream",
     "text": [
      "iteration 0 / 75000: loss 128.253884\n",
      "iteration 10000 / 75000: loss 5.002198\n",
      "iteration 20000 / 75000: loss 2.164331\n",
      "iteration 30000 / 75000: loss 0.502188\n",
      "iteration 40000 / 75000: loss 4.648260\n",
      "iteration 50000 / 75000: loss 1.211348\n",
      "iteration 60000 / 75000: loss 3.889161\n",
      "iteration 70000 / 75000: loss 3.227497\n",
      "0.98\n"
     ]
    }
   ],
   "source": [
    "model = LinearSVM(fit_intercept=True)\n",
    "model.train(X, y, num_iters=75000, batch_size=64, learning_rate=1e-3, verbose=True)\n",
    "pred = model.predict(X)\n",
    "model_accuracy = accuracy_score(y, pred)\n",
    "print(model_accuracy)\n",
    "assert model_accuracy > 0.97"
   ]
  }
 ],
 "metadata": {
  "kernelspec": {
   "display_name": "Python 3 (ipykernel)",
   "language": "python",
   "name": "python3"
  },
  "language_info": {
   "codemirror_mode": {
    "name": "ipython",
    "version": 3
   },
   "file_extension": ".py",
   "mimetype": "text/x-python",
   "name": "python",
   "nbconvert_exporter": "python",
   "pygments_lexer": "ipython3",
   "version": "3.10.9"
  }
 },
 "nbformat": 4,
 "nbformat_minor": 5
}
